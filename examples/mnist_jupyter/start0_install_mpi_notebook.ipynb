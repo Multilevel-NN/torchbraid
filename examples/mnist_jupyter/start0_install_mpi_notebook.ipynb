{
 "cells": [
  {
   "cell_type": "markdown",
   "id": "b9171633",
   "metadata": {},
   "source": [
    "### This is a simple \"Hello World\" example for MPI with iPython\n",
    "For references, these websites are not terrible\n",
    "- https://ipython.org/ipython-doc/3/parallel/magics.html\n",
    "- https://charlesreid1.com/wiki/Jupyter/MPI\n",
    "\n",
    "#### Before running this example, do the following\n",
    "1) Install dependencies\n",
    "\n",
    "        brew install open-mpi\n",
    "        pip3 install mpi4py\n",
    "        pip3 install ipyparallel\n",
    "        jupyter serverextension enable --py ipyparallel\n",
    "\n",
    "2)  Start local ipython cluster independently of jupyter\n",
    "- Create mpi ipython profile\n",
    "\n",
    "        $ ipython profile create --parallel --profile=mpi\n",
    "   \n",
    "- Note, MPI should be listed as installed in the file\n",
    "\n",
    "        ~/.ipython/profile_mpi/ipcluster_config.py`\n",
    "\n",
    "\n",
    "3) Start ipython cluster from new terminal\n",
    "\n",
    "        $ ipcluster start --n=2 --engines=mpi --profile=mpi\n",
    "   \n",
    "or depending, may need to use\n",
    "   \n",
    "        $ ipcluster start --n=2 --engines=MPIEngineSetLauncher --profile=mpi\n",
    "\n",
    "4) Leave that ipython cluster running in its own terminal\n",
    "- Issues:  This page is helpful https://charlesreid1.com/wiki/Jupyter/MPI\n",
    "\n",
    "\n",
    "5) Connect to ipython cluster in this Jupyter notebook by running the below code blocks\n",
    "- Note how you need to first connect to the ipython cluster, and then synchronize imports of packages\n"
   ]
  },
  {
   "cell_type": "code",
   "execution_count": 2,
   "id": "bd9fbc6f",
   "metadata": {},
   "outputs": [
    {
     "name": "stdout",
     "output_type": "stream",
     "text": [
      "importing MPI from mpi4py on engine(s)\n",
      "importing sys on engine(s)\n"
     ]
    }
   ],
   "source": [
    "# Connect to local ipython cluster.  Note, the ipcluster profile name must match with the below text. \n",
    "# Here, we use 'mpi', but you can name the cluster profile anything\n",
    "from ipyparallel import Client, error\n",
    "cluster = Client(profile='mpi')\n",
    "\n",
    "# Note, how you synchronize package imports\n",
    "with cluster[:].sync_imports():\n",
    "    from mpi4py import MPI\n",
    "    import sys"
   ]
  },
  {
   "cell_type": "code",
   "execution_count": 3,
   "id": "35ce146b",
   "metadata": {},
   "outputs": [
    {
     "name": "stdout",
     "output_type": "stream",
     "text": [
      "profile: mpi\n",
      "IDs: [0, 1]\n"
     ]
    }
   ],
   "source": [
    "# Diagnostic printing of ipcluster information\n",
    "print('profile:', cluster.profile)\n",
    "print(\"IDs:\", cluster.ids) "
   ]
  },
  {
   "cell_type": "markdown",
   "id": "61ce1f3c",
   "metadata": {},
   "source": [
    "#### The command `%%px` tells iPython to execute all of these lines in parallel, on each iPython process\n",
    "- Alternatively, prepending a line with `%px` will set individual lines to run in parallel\n",
    "- Without line-by-line `%px` or `%%px`, commands will only run on rank 0\n",
    "- We use sys.stderr to write output, as this is better in parallel.  This function always returns a dummy integer (representing the number of characters printed), hence the return value `k` below."
   ]
  },
  {
   "cell_type": "code",
   "execution_count": 4,
   "id": "4cb01db3",
   "metadata": {},
   "outputs": [
    {
     "data": {
      "text/plain": [
       "[stderr:0] Hello, World! I am process 0 of 2.\n"
      ]
     },
     "metadata": {},
     "output_type": "display_data"
    },
    {
     "data": {
      "text/plain": [
       "[stderr:1] Hello, World! I am process 1 of 2.\n"
      ]
     },
     "metadata": {},
     "output_type": "display_data"
    }
   ],
   "source": [
    "%%px \n",
    "size = MPI.COMM_WORLD.Get_size()\n",
    "rank = MPI.COMM_WORLD.Get_rank()\n",
    "k = sys.stderr.write(\"Hello, World! I am process %d of %d.\\n\"% (rank, size))"
   ]
  },
  {
   "cell_type": "code",
   "execution_count": null,
   "id": "13bc6b4e",
   "metadata": {},
   "outputs": [],
   "source": []
  }
 ],
 "metadata": {
  "kernelspec": {
   "display_name": "Python 3 (ipykernel)",
   "language": "python",
   "name": "python3"
  },
  "language_info": {
   "codemirror_mode": {
    "name": "ipython",
    "version": 3
   },
   "file_extension": ".py",
   "mimetype": "text/x-python",
   "name": "python",
   "nbconvert_exporter": "python",
   "pygments_lexer": "ipython3",
   "version": "3.10.8"
  }
 },
 "nbformat": 4,
 "nbformat_minor": 5
}

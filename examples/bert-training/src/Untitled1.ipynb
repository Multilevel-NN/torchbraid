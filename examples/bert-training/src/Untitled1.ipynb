{
 "cells": [
  {
   "cell_type": "code",
   "execution_count": 5,
   "id": "92b77879-68ac-4ad4-b52c-af8940907f2a",
   "metadata": {},
   "outputs": [
    {
     "name": "stderr",
     "output_type": "stream",
     "text": [
      "/home/sjiang/braids/pip-test/lib/python3.10/site-packages/huggingface_hub/file_download.py:797: FutureWarning: `resume_download` is deprecated and will be removed in version 1.0.0. Downloads always resume when possible. If you want to force a new download, use `force_download=True`.\n",
      "  warnings.warn(\n"
     ]
    },
    {
     "name": "stdout",
     "output_type": "stream",
     "text": [
      "Loading Dataset\n"
     ]
    },
    {
     "data": {
      "application/vnd.jupyter.widget-view+json": {
       "model_id": "f8b8b58b9b6745d1949af29307964541",
       "version_major": 2,
       "version_minor": 0
      },
      "text/plain": [
       "Map:   0%|          | 0/363846 [00:00<?, ? examples/s]"
      ]
     },
     "metadata": {},
     "output_type": "display_data"
    },
    {
     "data": {
      "application/vnd.jupyter.widget-view+json": {
       "model_id": "019e11fce28d4ba1bbbb64d361dfa703",
       "version_major": 2,
       "version_minor": 0
      },
      "text/plain": [
       "Map:   0%|          | 0/40430 [00:00<?, ? examples/s]"
      ]
     },
     "metadata": {},
     "output_type": "display_data"
    },
    {
     "data": {
      "application/vnd.jupyter.widget-view+json": {
       "model_id": "93e401dfc76447aa8db9208d5548953b",
       "version_major": 2,
       "version_minor": 0
      },
      "text/plain": [
       "Map:   0%|          | 0/390965 [00:00<?, ? examples/s]"
      ]
     },
     "metadata": {},
     "output_type": "display_data"
    },
    {
     "data": {
      "text/html": [
       "\n",
       "    <div>\n",
       "      \n",
       "      <progress value='56850' max='56850' style='width:300px; height:20px; vertical-align: middle;'></progress>\n",
       "      [56850/56850 3:53:59, Epoch 5/5]\n",
       "    </div>\n",
       "    <table border=\"1\" class=\"dataframe\">\n",
       "  <thead>\n",
       " <tr style=\"text-align: left;\">\n",
       "      <th>Epoch</th>\n",
       "      <th>Training Loss</th>\n",
       "      <th>Validation Loss</th>\n",
       "      <th>Accuracy</th>\n",
       "    </tr>\n",
       "  </thead>\n",
       "  <tbody>\n",
       "    <tr>\n",
       "      <td>1</td>\n",
       "      <td>0.397000</td>\n",
       "      <td>0.433302</td>\n",
       "      <td>0.787114</td>\n",
       "    </tr>\n",
       "    <tr>\n",
       "      <td>2</td>\n",
       "      <td>0.312500</td>\n",
       "      <td>0.349366</td>\n",
       "      <td>0.837465</td>\n",
       "    </tr>\n",
       "    <tr>\n",
       "      <td>3</td>\n",
       "      <td>0.293300</td>\n",
       "      <td>0.341155</td>\n",
       "      <td>0.852138</td>\n",
       "    </tr>\n",
       "    <tr>\n",
       "      <td>4</td>\n",
       "      <td>0.275800</td>\n",
       "      <td>0.373637</td>\n",
       "      <td>0.855750</td>\n",
       "    </tr>\n",
       "    <tr>\n",
       "      <td>5</td>\n",
       "      <td>0.149600</td>\n",
       "      <td>0.422713</td>\n",
       "      <td>0.859759</td>\n",
       "    </tr>\n",
       "  </tbody>\n",
       "</table><p>"
      ],
      "text/plain": [
       "<IPython.core.display.HTML object>"
      ]
     },
     "metadata": {},
     "output_type": "display_data"
    },
    {
     "data": {
      "text/html": [
       "\n",
       "    <div>\n",
       "      \n",
       "      <progress value='1263' max='1263' style='width:300px; height:20px; vertical-align: middle;'></progress>\n",
       "      [1263/1263 01:37]\n",
       "    </div>\n",
       "    "
      ],
      "text/plain": [
       "<IPython.core.display.HTML object>"
      ]
     },
     "metadata": {},
     "output_type": "display_data"
    },
    {
     "name": "stdout",
     "output_type": "stream",
     "text": [
      "Evaluation results: {'eval_loss': 0.4227125644683838, 'eval_accuracy': 0.8597585114806018, 'eval_runtime': 97.5322, 'eval_samples_per_second': 414.53, 'eval_steps_per_second': 12.96, 'epoch': 5.0}\n"
     ]
    }
   ],
   "source": [
    "import datasets\n",
    "import torch\n",
    "from collections import OrderedDict\n",
    "from transformers import BertTokenizer\n",
    "from transformers import Trainer, TrainingArguments\n",
    "from network_architecture_v2 import MyBertForSequenceClassification\n",
    "import argparse\n",
    "import logging\n",
    "import numpy as np\n",
    "logging.disable(logging.WARNING)\n",
    "\n",
    "# Define a function to compute metrics\n",
    "def compute_metrics(p):\n",
    "    logits, labels = p\n",
    "    predictions = np.argmax(logi        compute_metrics=compute_metrics\n",
    "ts, axis=-1)\n",
    "    accuracy = np.mean(predictions == labels)\n",
    "    return {\"accuracy\": accuracy}\n",
    "    \n",
    "def main():\n",
    "    # Parse command-line arguments\n",
    "    qqp_dataset = datasets.load_dataset('glue', 'qqp')\n",
    "\n",
    "    # Load a pre-trained tokenizer\n",
    "    model_name = 'bert-base-uncased'\n",
    "    tokenizer = BertTokenizer.from_pretrained(model_name)\n",
    "\n",
    "    # Tokenize the dataset\n",
    "    def preprocess_function(examples):\n",
    "        return tokenizer(\n",
    "            examples['question1'], \n",
    "            examples['question2'], \n",
    "            truncation='longest_first', \n",
    "            padding='max_length', \n",
    "            max_length=64,  # Adjust based on your model's max input length\n",
    "            return_overflowing_tokens=False,  # Suppress the warning\n",
    "        )\n",
    "\n",
    "    print('Loading Dataset')\n",
    "    encoded_dataset = qqp_dataset.map(preprocess_function, batched=True)\n",
    "\n",
    "    # Load pre-trained model\n",
    "    model_dicts = torch.load(f'bert-save-1/model_serial_checkpoint_batch_idx=80000')\n",
    "    new_dict = OrderedDict(model_dicts['model_state_dict'])\n",
    "\n",
    "    model_serial = torch.load('serialnet_bert_32')\n",
    "    model_serial.load_state_dict(new_dict)\n",
    "\n",
    "    # Load a pre-trained model for sequence classification\n",
    "    model = MyBertForSequenceClassification(model_serial, num_labels=2)\n",
    "\n",
    "    # Define training arguments\n",
    "    training_args = TrainingArguments(\n",
    "        output_dir='./results',          # output directory\n",
    "        evaluation_strategy='epoch',     # evaluate each epoch\n",
    "        learning_rate=1e-5,              # learning rate\n",
    "        per_device_train_batch_size=32,  # batch size for training\n",
    "        per_device_eval_batch_size=32,   # batch size for evaluation\n",
    "        num_train_epochs=5,              # number of training epochs\n",
    "        weight_decay=0.1,               # strength of weight decay\n",
    "        logging_dir='./logs',            # directory for storing logs\n",
    "        logging_steps=10,\n",
    "        warmup_ratio=.06,\n",
    "        dataloader_drop_last=True\n",
    "    )\n",
    "\n",
    "    # Initialize the Trainer\n",
    "    trainer = Trainer(\n",
    "        model=model,                         # the instantiated 🤗 Transformers model to be trained\n",
    "        args=training_args,                  # training arguments, defined above\n",
    "        train_dataset=encoded_dataset['train'],         # training dataset\n",
    "        eval_dataset=encoded_dataset['validation'],     # evaluation dataset\n",
    "        tokenizer=tokenizer,\n",
    "        compute_metrics=compute_metrics\n",
    "    )\n",
    "\n",
    "    # Train the model\n",
    "    trainer.train()\n",
    "\n",
    "    # Evaluate the model\n",
    "    eval_results = trainer.evaluate()\n",
    "\n",
    "    print(f\"Evaluation results: {eval_results}\")\n",
    "\n",
    "if __name__ == \"__main__\":\n",
    "    main()\n"
   ]
  },
  {
   "cell_type": "code",
   "execution_count": null,
   "id": "c5debd68-ed48-4b6c-ae8a-e0288f79a702",
   "metadata": {},
   "outputs": [],
   "source": []
  }
 ],
 "metadata": {
  "kernelspec": {
   "display_name": "Python 3 (ipykernel)",
   "language": "python",
   "name": "python3"
  },
  "language_info": {
   "codemirror_mode": {
    "name": "ipython",
    "version": 3
   },
   "file_extension": ".py",
   "mimetype": "text/x-python",
   "name": "python",
   "nbconvert_exporter": "python",
   "pygments_lexer": "ipython3",
   "version": "3.10.8"
  }
 },
 "nbformat": 4,
 "nbformat_minor": 5
}

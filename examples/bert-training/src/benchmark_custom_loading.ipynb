{
 "cells": [
  {
   "cell_type": "markdown",
   "id": "edd570c2-046a-4ae7-8321-8775d0ad7f07",
   "metadata": {},
   "source": [
    "# Loading and fine-tuning/benchmarking\n",
    "\n",
    "This is only for the serial case. See the other notebook for the parallel stuff. "
   ]
  },
  {
   "cell_type": "code",
   "execution_count": 1,
   "id": "844fc651-584a-4a02-8a73-115cd0be8bf8",
   "metadata": {},
   "outputs": [],
   "source": [
    "import torch\n",
    "import torch.nn as nn\n",
    "\n",
    "# Needed for parallel \n",
    "from collections import OrderedDict"
   ]
  },
  {
   "cell_type": "markdown",
   "id": "e060862a-2abe-43f1-9575-42e682da07a1",
   "metadata": {},
   "source": [
    "## Let's load the serial model"
   ]
  },
  {
   "cell_type": "code",
   "execution_count": 2,
   "id": "fc7ca338-9b84-4bd8-a515-9218e8de3427",
   "metadata": {},
   "outputs": [],
   "source": [
    "# Load dictionary\n",
    "model_dicts = torch.load(f'model_serial_checkpoint_0_epoch=10')\n",
    "\n",
    "# Load actual model \n",
    "model_serial = torch.load('serialnet_bert_32')"
   ]
  },
  {
   "cell_type": "code",
   "execution_count": 3,
   "id": "9a111f5b-218d-479c-96f6-4398b7c6ffd2",
   "metadata": {},
   "outputs": [
    {
     "data": {
      "text/plain": [
       "<All keys matched successfully>"
      ]
     },
     "execution_count": 3,
     "metadata": {},
     "output_type": "execute_result"
    }
   ],
   "source": [
    "model_serial.load_state_dict(model_dicts['model_state'])"
   ]
  },
  {
   "cell_type": "code",
   "execution_count": 4,
   "id": "7edd7594-8113-43f4-83b3-4b856d6793f1",
   "metadata": {},
   "outputs": [
    {
     "data": {
      "text/plain": [
       "tensor([ 8.2220e-20, -3.1414e-21,  8.5347e-19, -3.4963e-23, -1.8939e-12,\n",
       "        -8.1679e-17,  4.8803e-15, -2.3748e-15, -1.2632e-13,  1.1441e-06],\n",
       "       device='cuda:0', grad_fn=<SliceBackward0>)"
      ]
     },
     "execution_count": 4,
     "metadata": {},
     "output_type": "execute_result"
    }
   ],
   "source": [
    "model_serial.serial_nn[0].layer.layer.layer.attention.self.query.weight.flatten()[0:10]"
   ]
  },
  {
   "cell_type": "code",
   "execution_count": 5,
   "id": "36eb825a-362a-4c8c-b90f-fd4f2590323d",
   "metadata": {},
   "outputs": [],
   "source": [
    "#print(model_dicts['model_state'].keys())"
   ]
  },
  {
   "cell_type": "markdown",
   "id": "7448fe58-a76f-4783-a1ab-1cdd5b6b4af5",
   "metadata": {},
   "source": [
    "# With the models loaded, it's time to alter to train \n",
    "\n",
    "Remember that this fine tuning task means we have to alter the actual model and transfer things over. "
   ]
  },
  {
   "cell_type": "code",
   "execution_count": 6,
   "id": "60aad6e2-428c-4890-999d-d0b5470e2905",
   "metadata": {},
   "outputs": [],
   "source": [
    "from network_architecture_v2 import MyBertForSequenceClassification"
   ]
  },
  {
   "cell_type": "code",
   "execution_count": 7,
   "id": "2e8d8862-71df-4e0a-a0d6-2d8dfc579ea5",
   "metadata": {},
   "outputs": [
    {
     "data": {
      "text/plain": [
       "BertPooler(\n",
       "  (dense): Linear(in_features=1024, out_features=1024, bias=True)\n",
       "  (activation): Tanh()\n",
       ")"
      ]
     },
     "execution_count": 7,
     "metadata": {},
     "output_type": "execute_result"
    }
   ],
   "source": [
    "model_serial.close_nn_nsp.pooler"
   ]
  },
  {
   "cell_type": "code",
   "execution_count": 8,
   "id": "b98a6bf1-3c50-403a-853d-e027b76c2c06",
   "metadata": {},
   "outputs": [],
   "source": [
    "training_serial = MyBertForSequenceClassification(model_serial)"
   ]
  },
  {
   "cell_type": "markdown",
   "id": "5e0ebdf6-ceb3-4cb2-a6a1-7c9f94367a2b",
   "metadata": {},
   "source": [
    "## With models defined, load dataset "
   ]
  },
  {
   "cell_type": "code",
   "execution_count": 9,
   "id": "04f4c485-f224-40a5-be27-fe03e0dafaff",
   "metadata": {},
   "outputs": [],
   "source": [
    "from datasets import load_dataset, load_metric\n",
    "from transformers import BertTokenizer\n",
    "from transformers import Trainer, TrainingArguments\n",
    "import numpy as np"
   ]
  },
  {
   "cell_type": "code",
   "execution_count": 10,
   "id": "b52b1517-a45e-4437-a59c-983ebb3c1fbd",
   "metadata": {},
   "outputs": [],
   "source": [
    "# Load dataset\n",
    "dataset = load_dataset('glue', 'sst2')\n",
    "\n",
    "# I believe this is the tokenizer I used... \n",
    "tokenizer = BertTokenizer.from_pretrained(\"bert-base-uncased\")\n",
    "\n",
    "def tokenize_function(examples):\n",
    "    return tokenizer(examples['sentence'], padding=\"max_length\", \n",
    "                     max_length=64, truncation=True)\n",
    "\n",
    "tokenized_datasets = dataset.map(tokenize_function, batched=True)"
   ]
  },
  {
   "cell_type": "code",
   "execution_count": 11,
   "id": "ef900ce4-230f-44a9-aee4-bef850a28322",
   "metadata": {},
   "outputs": [
    {
     "name": "stdout",
     "output_type": "stream",
     "text": [
      "64\n",
      "64\n"
     ]
    }
   ],
   "source": [
    "print(len(tokenized_datasets['train'][1]['input_ids']))\n",
    "print(len(tokenized_datasets['train'][0]['input_ids']))"
   ]
  },
  {
   "cell_type": "code",
   "execution_count": 12,
   "id": "67c59086-7812-4fea-89fe-728795d1490c",
   "metadata": {},
   "outputs": [
    {
     "name": "stdout",
     "output_type": "stream",
     "text": [
      "{'sentence': 'hide new secretions from the parental units ', 'label': 0, 'idx': 0, 'input_ids': [101, 5342, 2047, 3595, 8496, 2013, 1996, 18643, 3197, 102, 0, 0, 0, 0, 0, 0, 0, 0, 0, 0, 0, 0, 0, 0, 0, 0, 0, 0, 0, 0, 0, 0, 0, 0, 0, 0, 0, 0, 0, 0, 0, 0, 0, 0, 0, 0, 0, 0, 0, 0, 0, 0, 0, 0, 0, 0, 0, 0, 0, 0, 0, 0, 0, 0], 'token_type_ids': [0, 0, 0, 0, 0, 0, 0, 0, 0, 0, 0, 0, 0, 0, 0, 0, 0, 0, 0, 0, 0, 0, 0, 0, 0, 0, 0, 0, 0, 0, 0, 0, 0, 0, 0, 0, 0, 0, 0, 0, 0, 0, 0, 0, 0, 0, 0, 0, 0, 0, 0, 0, 0, 0, 0, 0, 0, 0, 0, 0, 0, 0, 0, 0], 'attention_mask': [1, 1, 1, 1, 1, 1, 1, 1, 1, 1, 0, 0, 0, 0, 0, 0, 0, 0, 0, 0, 0, 0, 0, 0, 0, 0, 0, 0, 0, 0, 0, 0, 0, 0, 0, 0, 0, 0, 0, 0, 0, 0, 0, 0, 0, 0, 0, 0, 0, 0, 0, 0, 0, 0, 0, 0, 0, 0, 0, 0, 0, 0, 0, 0]}\n"
     ]
    }
   ],
   "source": [
    "print(tokenized_datasets['train'][0])"
   ]
  },
  {
   "cell_type": "code",
   "execution_count": 13,
   "id": "ebc7f4cf-bce9-4ec1-aad1-af08bd61efa7",
   "metadata": {},
   "outputs": [],
   "source": [
    "training_args = TrainingArguments(\n",
    "    output_dir='./results',\n",
    "    num_train_epochs=10,\n",
    "    per_device_train_batch_size=128,\n",
    "    per_device_eval_batch_size=128,\n",
    "    learning_rate=1e-4,\n",
    "    dataloader_drop_last=True,\n",
    "    # warmup_steps=10,\n",
    "    # weight_decay=0.01,\n",
    "    logging_dir='./logs',\n",
    "    logging_steps=10,\n",
    "    evaluation_strategy=\"epoch\",\n",
    ")\n"
   ]
  },
  {
   "cell_type": "code",
   "execution_count": 14,
   "id": "cef65b3f-9f39-4128-b9bb-e54c4ab4c1b3",
   "metadata": {},
   "outputs": [
    {
     "name": "stderr",
     "output_type": "stream",
     "text": [
      "/tmp/ipykernel_1213084/460567621.py:2: FutureWarning: load_metric is deprecated and will be removed in the next major version of datasets. Use 'evaluate.load' instead, from the new library 🤗 Evaluate: https://huggingface.co/docs/evaluate\n",
      "  metric = load_metric(\"accuracy\")\n"
     ]
    }
   ],
   "source": [
    "# Load the accuracy metric\n",
    "metric = load_metric(\"accuracy\")\n",
    "\n",
    "# Define the compute metrics function\n",
    "def compute_metrics(eval_pred):\n",
    "    logits, labels = eval_pred\n",
    "    predictions = np.argmax(logits, axis=-1)\n",
    "    return metric.compute(predictions=predictions, references=labels)\n"
   ]
  },
  {
   "cell_type": "code",
   "execution_count": 15,
   "id": "9a992bf4-8e9e-4ead-a40e-5d9211426518",
   "metadata": {},
   "outputs": [
    {
     "name": "stderr",
     "output_type": "stream",
     "text": [
      "Detected kernel version 4.18.0, which is below the recommended minimum of 5.5.0; this can cause the process to hang. It is recommended to upgrade the kernel to the minimum version or higher.\n"
     ]
    }
   ],
   "source": [
    "# Initialize the Trainer\n",
    "trainer = Trainer(\n",
    "    model=training_serial,\n",
    "    args=training_args,\n",
    "    train_dataset=tokenized_datasets['train'],\n",
    "    eval_dataset=tokenized_datasets['validation'],\n",
    "    compute_metrics=compute_metrics\n",
    ")\n"
   ]
  },
  {
   "cell_type": "code",
   "execution_count": 16,
   "id": "5d051312-199a-4c24-88d6-c460685807a4",
   "metadata": {},
   "outputs": [
    {
     "data": {
      "text/html": [
       "\n",
       "    <div>\n",
       "      \n",
       "      <progress value='5260' max='5260' style='width:300px; height:20px; vertical-align: middle;'></progress>\n",
       "      [5260/5260 1:57:42, Epoch 10/10]\n",
       "    </div>\n",
       "    <table border=\"1\" class=\"dataframe\">\n",
       "  <thead>\n",
       " <tr style=\"text-align: left;\">\n",
       "      <th>Epoch</th>\n",
       "      <th>Training Loss</th>\n",
       "      <th>Validation Loss</th>\n",
       "      <th>Accuracy</th>\n",
       "    </tr>\n",
       "  </thead>\n",
       "  <tbody>\n",
       "    <tr>\n",
       "      <td>1</td>\n",
       "      <td>0.689600</td>\n",
       "      <td>0.694709</td>\n",
       "      <td>0.507812</td>\n",
       "    </tr>\n",
       "    <tr>\n",
       "      <td>2</td>\n",
       "      <td>0.690300</td>\n",
       "      <td>0.695426</td>\n",
       "      <td>0.507812</td>\n",
       "    </tr>\n",
       "    <tr>\n",
       "      <td>3</td>\n",
       "      <td>0.411600</td>\n",
       "      <td>0.461916</td>\n",
       "      <td>0.798177</td>\n",
       "    </tr>\n",
       "    <tr>\n",
       "      <td>4</td>\n",
       "      <td>0.268000</td>\n",
       "      <td>0.458745</td>\n",
       "      <td>0.809896</td>\n",
       "    </tr>\n",
       "    <tr>\n",
       "      <td>5</td>\n",
       "      <td>0.209000</td>\n",
       "      <td>0.538530</td>\n",
       "      <td>0.790365</td>\n",
       "    </tr>\n",
       "    <tr>\n",
       "      <td>6</td>\n",
       "      <td>0.204500</td>\n",
       "      <td>0.548699</td>\n",
       "      <td>0.807292</td>\n",
       "    </tr>\n",
       "    <tr>\n",
       "      <td>7</td>\n",
       "      <td>0.166800</td>\n",
       "      <td>0.605398</td>\n",
       "      <td>0.796875</td>\n",
       "    </tr>\n",
       "    <tr>\n",
       "      <td>8</td>\n",
       "      <td>0.143300</td>\n",
       "      <td>0.669445</td>\n",
       "      <td>0.802083</td>\n",
       "    </tr>\n",
       "    <tr>\n",
       "      <td>9</td>\n",
       "      <td>0.143200</td>\n",
       "      <td>0.700075</td>\n",
       "      <td>0.787760</td>\n",
       "    </tr>\n",
       "    <tr>\n",
       "      <td>10</td>\n",
       "      <td>0.115100</td>\n",
       "      <td>0.724311</td>\n",
       "      <td>0.791667</td>\n",
       "    </tr>\n",
       "  </tbody>\n",
       "</table><p>"
      ],
      "text/plain": [
       "<IPython.core.display.HTML object>"
      ]
     },
     "metadata": {},
     "output_type": "display_data"
    },
    {
     "data": {
      "text/plain": [
       "TrainOutput(global_step=5260, training_loss=0.32825333231302267, metrics={'train_runtime': 7064.3358, 'train_samples_per_second': 95.337, 'train_steps_per_second': 0.745, 'total_flos': 0.0, 'train_loss': 0.32825333231302267, 'epoch': 10.0})"
      ]
     },
     "execution_count": 16,
     "metadata": {},
     "output_type": "execute_result"
    }
   ],
   "source": [
    "trainer.train()"
   ]
  }
 ],
 "metadata": {
  "kernelspec": {
   "display_name": "Python 3 (ipykernel)",
   "language": "python",
   "name": "python3"
  },
  "language_info": {
   "codemirror_mode": {
    "name": "ipython",
    "version": 3
   },
   "file_extension": ".py",
   "mimetype": "text/x-python",
   "name": "python",
   "nbconvert_exporter": "python",
   "pygments_lexer": "ipython3",
   "version": "3.10.8"
  }
 },
 "nbformat": 4,
 "nbformat_minor": 5
}

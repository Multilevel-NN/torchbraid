{
 "cells": [
  {
   "cell_type": "markdown",
   "id": "d30ac294",
   "metadata": {},
   "source": [
    "### Demonstrate simple MPI send and receive\n",
    "- Make sure you have successfully configured and run your ipython cluster as outlined in \n",
    "`start0_install_mpi_notebook`"
   ]
  },
  {
   "cell_type": "code",
   "execution_count": 1,
   "id": "6d695148",
   "metadata": {},
   "outputs": [],
   "source": [
    "# Connect to local ipython cluster.  Note, the ipcluster profile name must match with the below text. \n",
    "# Here, we use 'mpi', but you can name the cluster profile anything\n",
    "from ipyparallel import Client, error\n",
    "cluster = Client(profile='mpi')"
   ]
  },
  {
   "cell_type": "markdown",
   "id": "5f57955f",
   "metadata": {},
   "source": [
    "#### The command `%%px` tells iPython to execute all of these lines in parallel, on each iPython process\n",
    "- Alternatively, prepending a line with `%px` will set individual lines to run in parallel\n",
    "- Without line-by-line `%px` or `%%px`, commands will only run on rank 0"
   ]
  },
  {
   "cell_type": "code",
   "execution_count": 2,
   "id": "71eb9edb",
   "metadata": {},
   "outputs": [],
   "source": [
    "%%px\n",
    "from mpi4py import MPI\n",
    "import sys\n",
    "import numpy as np"
   ]
  },
  {
   "cell_type": "code",
   "execution_count": 3,
   "id": "ded35e60",
   "metadata": {},
   "outputs": [
    {
     "data": {
      "text/plain": [
       "[stdout:0] 0: sent data to 1:\n",
       "[90 60 47 25 53  9 92 97 36 69 76 68 27 32 98 67 42  2 15  0 66  4 19 99\n",
       " 86 77  3 59 22 95  6 61 31 10 63 17 70 41 29 33 34 14 43 78 72 55 91 45\n",
       " 38 23 18 46  5 35 65 39 12 88 13 75 20 96 26 40 37 56 30 79 52  7 71 64\n",
       " 81 57 28 94 84 54 48 93 62 85 83 11 44 49 87 50 51 89 58 82 74 16 24  8\n",
       "  1 80 73 21]\n"
      ]
     },
     "metadata": {},
     "output_type": "display_data"
    },
    {
     "data": {
      "text/plain": [
       "[stdout:1] 1: received data from 0:\n",
       "[90 60 47 25 53  9 92 97 36 69 76 68 27 32 98 67 42  2 15  0 66  4 19 99\n",
       " 86 77  3 59 22 95  6 61 31 10 63 17 70 41 29 33 34 14 43 78 72 55 91 45\n",
       " 38 23 18 46  5 35 65 39 12 88 13 75 20 96 26 40 37 56 30 79 52  7 71 64\n",
       " 81 57 28 94 84 54 48 93 62 85 83 11 44 49 87 50 51 89 58 82 74 16 24  8\n",
       "  1 80 73 21]\n"
      ]
     },
     "metadata": {},
     "output_type": "display_data"
    }
   ],
   "source": [
    "%%px\n",
    "comm = MPI.COMM_WORLD\n",
    "rank = comm.Get_rank()\n",
    "\n",
    "# passing MPI datatypes explicitly\n",
    "if rank == 0:\n",
    "    data = np.arange(100, dtype='i')\n",
    "    np.random.shuffle(data)\n",
    "    comm.Send([data, MPI.INT], dest=1, tag=77)\n",
    "    print(\"{0}: sent data to 1:\\n{1}\".format(rank, data))\n",
    "elif rank == 1:\n",
    "    data = np.empty(100, dtype='i')\n",
    "    comm.Recv([data, MPI.INT], source=0, tag=77)\n",
    "    print(\"{0}: received data from 0:\\n{1}\".format(rank, data))\n",
    "else:\n",
    "    print(\"{0}: idle\".format(rank))"
   ]
  },
  {
   "cell_type": "markdown",
   "id": "5c770857",
   "metadata": {},
   "source": [
    "#### Here, we pass flags to `%%px`, so that we group the output per engine.  This is useful, if you have many nodes printing output all at once"
   ]
  },
  {
   "cell_type": "code",
   "execution_count": 4,
   "id": "5cb5e57b",
   "metadata": {},
   "outputs": [
    {
     "data": {
      "text/plain": [
       "[stdout:1] 1: received data from 0:\n",
       "[ 0 40 14 26  9  3 97 75 50 45 12 36 39  2 82 22 28 78 68 74 15 88 43 18\n",
       " 31 37 84 96 99 25 92 56 10 69 49 16 34 60 79 23 38 81 44 72 27 13 87 70\n",
       " 63 48 29 76 55 46 64 35 57 53 77 67 62 42 21 47 98 89  1 73 17 85  5  6\n",
       " 93 90 91 30 19 66 86  8 24  4 83 58  7 65 59 95 41 80 51 52 11 71 33 54\n",
       " 61 94 20 32]\n"
      ]
     },
     "metadata": {},
     "output_type": "display_data"
    },
    {
     "data": {
      "text/plain": [
       "[stdout:0] 0: sent data to 1:\n",
       "[ 0 40 14 26  9  3 97 75 50 45 12 36 39  2 82 22 28 78 68 74 15 88 43 18\n",
       " 31 37 84 96 99 25 92 56 10 69 49 16 34 60 79 23 38 81 44 72 27 13 87 70\n",
       " 63 48 29 76 55 46 64 35 57 53 77 67 62 42 21 47 98 89  1 73 17 85  5  6\n",
       " 93 90 91 30 19 66 86  8 24  4 83 58  7 65 59 95 41 80 51 52 11 71 33 54\n",
       " 61 94 20 32]\n"
      ]
     },
     "metadata": {},
     "output_type": "display_data"
    }
   ],
   "source": [
    "%%px --block --group-outputs=engine\n",
    "# passing MPI datatypes explicitly\n",
    "if rank == 0:\n",
    "    data = np.arange(100, dtype='i')\n",
    "    np.random.shuffle(data)\n",
    "    comm.Send([data, MPI.INT], dest=1, tag=77)\n",
    "    print(\"{0}: sent data to 1:\\n{1}\".format(rank, data))\n",
    "elif rank == 1:\n",
    "    data = np.empty(100, dtype='i')\n",
    "    comm.Recv([data, MPI.INT], source=0, tag=77)\n",
    "    print(\"{0}: received data from 0:\\n{1}\".format(rank, data))\n",
    "else:\n",
    "    print(\"{0}: idle\".format(rank))"
   ]
  },
  {
   "cell_type": "code",
   "execution_count": null,
   "id": "31a5b3ff",
   "metadata": {},
   "outputs": [],
   "source": []
  }
 ],
 "metadata": {
  "kernelspec": {
   "display_name": "Python 3 (ipykernel)",
   "language": "python",
   "name": "python3"
  },
  "language_info": {
   "codemirror_mode": {
    "name": "ipython",
    "version": 3
   },
   "file_extension": ".py",
   "mimetype": "text/x-python",
   "name": "python",
   "nbconvert_exporter": "python",
   "pygments_lexer": "ipython3",
   "version": "3.10.8"
  }
 },
 "nbformat": 4,
 "nbformat_minor": 5
}

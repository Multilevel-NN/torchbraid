{
 "cells": [
  {
   "cell_type": "markdown",
   "id": "98804907",
   "metadata": {},
   "source": [
    "### Apply layer-parallel Torchbraid to simple MNIST problem (fashion or digits)\n",
    "- See `start0_install_mpi_notebook.ipynb`, and `start1_simple_mpi_notebook.ipynb` for setting up MPI-compatible Jupyter installation\n",
    "- Recommended to start ipython cluster for default notebook settings with (assumes 4 cores)\n",
    "\n",
    "        $ ipcluster start --n=4 --engines=mpi --profile=mpi\n",
    "\n",
    "  or\n",
    "\n",
    "        $ ipcluster start --n=4 --engines=MPIEngineSetLauncher --profile=mpi\n",
    "        \n",
    "#### Layer-parallel runs most efficiently when the \n",
    "\n",
    "    (number of processors)*(coarsening factor) = k*(number of ResNet Layers)\n",
    "    \n",
    "where `k` is some integer. This experiment is designed to satisfy this with the default parameters and four processors."
   ]
  },
  {
   "cell_type": "code",
   "execution_count": 2,
   "id": "a59da843",
   "metadata": {},
   "outputs": [
    {
     "name": "stdout",
     "output_type": "stream",
     "text": [
      "profile: mpi\n",
      "IDs: [0, 1, 2, 3]\n"
     ]
    }
   ],
   "source": [
    "# Connect to local ipython cluster.  Note, the ipcluster profile name must match the\n",
    "# below named profile. Here, we use 'mpi', but you can name the cluster profile anything\n",
    "from ipyparallel import Client, error\n",
    "cluster = Client(profile='mpi')\n",
    "print('profile:', cluster.profile)\n",
    "print(\"IDs:\", cluster.ids) "
   ]
  },
  {
   "cell_type": "code",
   "execution_count": 3,
   "id": "018636b2",
   "metadata": {},
   "outputs": [],
   "source": [
    "%%px\n",
    "# You must upate the sys.path to point to your Torchbraid location\n",
    "torchbraid_path = \"/Users/southworth/Software/Python/torchbraid\"\n",
    "\n",
    "from __future__ import print_function\n",
    "\n",
    "import statistics as stats\n",
    "import sys\n",
    "from timeit import default_timer as timer\n",
    "\n",
    "import numpy as np\n",
    "import torch\n",
    "import torch.nn as nn\n",
    "import torch.nn.functional as F\n",
    "import torch.optim as optim\n",
    "from torchvision import datasets, transforms\n",
    "from mpi4py import MPI\n",
    "\n",
    "import sys \n",
    "sys.path.append(torchbraid_path + \"/torchbraid\")\n",
    "sys.path.append(torchbraid_path)\n",
    "import torchbraid\n",
    "import torchbraid.utils"
   ]
  },
  {
   "cell_type": "code",
   "execution_count": 5,
   "id": "0f805aad",
   "metadata": {},
   "outputs": [
    {
     "data": {
      "text/plain": [
       "\u001b[0;31mOut[1:2]: \u001b[0m\n",
       "Dataset MNIST\n",
       "    Number of datapoints: 60000\n",
       "    Root location: /Users/southworth/Software/Python/torchbraid/examples/mnist/digit-data\n",
       "    Split: Train"
      ]
     },
     "metadata": {
      "after": null,
      "completed": null,
      "data": {},
      "engine_id": 1,
      "engine_uuid": "da932b68-42dff05439f8da76f81b2d6d",
      "error": null,
      "execute_input": "# Download the data\nfrom torchvision import datasets, transforms\ndatasets.MNIST(torchbraid_path + '/examples/mnist/digit-data', download=True)\n",
      "execute_result": {
       "data": {
        "text/plain": "Dataset MNIST\n    Number of datapoints: 60000\n    Root location: /Users/southworth/Software/Python/torchbraid/examples/mnist/digit-data\n    Split: Train"
       },
       "execution_count": 2,
       "metadata": {}
      },
      "follow": null,
      "msg_id": null,
      "outputs": [],
      "received": null,
      "started": null,
      "status": null,
      "stderr": "",
      "stdout": "",
      "submitted": "2022-12-14T19:15:24.989025Z"
     },
     "output_type": "display_data"
    },
    {
     "data": {
      "text/plain": [
       "\u001b[0;31mOut[0:2]: \u001b[0m\n",
       "Dataset MNIST\n",
       "    Number of datapoints: 60000\n",
       "    Root location: /Users/southworth/Software/Python/torchbraid/examples/mnist/digit-data\n",
       "    Split: Train"
      ]
     },
     "metadata": {
      "after": null,
      "completed": null,
      "data": {},
      "engine_id": 0,
      "engine_uuid": "64b6dd5d-ab90fb7932ad62d35ff2836a",
      "error": null,
      "execute_input": "# Download the data\nfrom torchvision import datasets, transforms\ndatasets.MNIST(torchbraid_path + '/examples/mnist/digit-data', download=True)\n",
      "execute_result": {
       "data": {
        "text/plain": "Dataset MNIST\n    Number of datapoints: 60000\n    Root location: /Users/southworth/Software/Python/torchbraid/examples/mnist/digit-data\n    Split: Train"
       },
       "execution_count": 2,
       "metadata": {}
      },
      "follow": null,
      "msg_id": null,
      "outputs": [],
      "received": null,
      "started": null,
      "status": null,
      "stderr": "",
      "stdout": "",
      "submitted": "2022-12-14T19:15:24.988649Z"
     },
     "output_type": "display_data"
    },
    {
     "data": {
      "text/plain": [
       "\u001b[0;31mOut[2:2]: \u001b[0m\n",
       "Dataset MNIST\n",
       "    Number of datapoints: 60000\n",
       "    Root location: /Users/southworth/Software/Python/torchbraid/examples/mnist/digit-data\n",
       "    Split: Train"
      ]
     },
     "metadata": {
      "after": null,
      "completed": null,
      "data": {},
      "engine_id": 2,
      "engine_uuid": "345ac379-c72a60ef1ab6c35d9e302b8c",
      "error": null,
      "execute_input": "# Download the data\nfrom torchvision import datasets, transforms\ndatasets.MNIST(torchbraid_path + '/examples/mnist/digit-data', download=True)\n",
      "execute_result": {
       "data": {
        "text/plain": "Dataset MNIST\n    Number of datapoints: 60000\n    Root location: /Users/southworth/Software/Python/torchbraid/examples/mnist/digit-data\n    Split: Train"
       },
       "execution_count": 2,
       "metadata": {}
      },
      "follow": null,
      "msg_id": null,
      "outputs": [],
      "received": null,
      "started": null,
      "status": null,
      "stderr": "",
      "stdout": "",
      "submitted": "2022-12-14T19:15:24.989647Z"
     },
     "output_type": "display_data"
    },
    {
     "data": {
      "text/plain": [
       "\u001b[0;31mOut[3:2]: \u001b[0m\n",
       "Dataset MNIST\n",
       "    Number of datapoints: 60000\n",
       "    Root location: /Users/southworth/Software/Python/torchbraid/examples/mnist/digit-data\n",
       "    Split: Train"
      ]
     },
     "metadata": {
      "after": [],
      "completed": "2022-12-14T19:15:25.072325Z",
      "data": {},
      "engine_id": 3,
      "engine_uuid": "284e368d-3ba6055dfa39892b99d2995a",
      "error": null,
      "execute_input": "# Download the data\nfrom torchvision import datasets, transforms\ndatasets.MNIST(torchbraid_path + '/examples/mnist/digit-data', download=True)\n",
      "execute_result": {
       "data": {
        "text/plain": "Dataset MNIST\n    Number of datapoints: 60000\n    Root location: /Users/southworth/Software/Python/torchbraid/examples/mnist/digit-data\n    Split: Train"
       },
       "execution_count": 2,
       "metadata": {}
      },
      "follow": [],
      "is_broadcast": false,
      "is_coalescing": false,
      "msg_id": "02a044b9-91b271bb121880a40bc4af6f_63129_8",
      "outputs": [],
      "received": "2022-12-14T19:15:25.083912Z",
      "started": "2022-12-14T19:15:24.993495Z",
      "status": "ok",
      "stderr": "",
      "stdout": "",
      "submitted": "2022-12-14T19:15:24.989717Z"
     },
     "output_type": "display_data"
    }
   ],
   "source": [
    "%%px\n",
    "# Download the data\n",
    "from torchvision import datasets, transforms\n",
    "datasets.MNIST(torchbraid_path + '/examples/mnist/digit-data', download=True)"
   ]
  },
  {
   "cell_type": "code",
   "execution_count": 7,
   "id": "318f5ac6",
   "metadata": {},
   "outputs": [],
   "source": [
    "%%px\n",
    "# Network architecture is Open + ResNet + Close\n",
    "# The StepLayer defines the ResNet (ODENet) \n",
    "class OpenFlatLayer(nn.Module):\n",
    "  ''' \n",
    "  Opening layer has no parameters, replicates image number of channels times\n",
    "  '''\n",
    "  def __init__(self, channels):\n",
    "    super(OpenFlatLayer, self).__init__()\n",
    "    self.channels = channels\n",
    "\n",
    "  def forward(self, x):\n",
    "    s = len(x.shape) * [1]\n",
    "    s[1] = self.channels\n",
    "    x = x.repeat(s)\n",
    "    return x\n",
    "\n",
    "class CloseLayer(nn.Module):\n",
    "  '''\n",
    "  Dense closing classification layer\n",
    "  '''\n",
    "  def __init__(self, channels):\n",
    "    super(CloseLayer, self).__init__()\n",
    "    self.fc1 = nn.Linear(channels * 28 * 28, 32)\n",
    "    self.fc2 = nn.Linear(32, 10)\n",
    "\n",
    "  def forward(self, x):\n",
    "    x = torch.flatten(x, 1)\n",
    "    x = self.fc1(x)\n",
    "    x = F.relu(x)\n",
    "    x = self.fc2(x)\n",
    "    return F.log_softmax(x, dim=1)\n",
    "\n",
    "class StepLayer(nn.Module):\n",
    "  '''\n",
    "  ResNet composed of convolutional layers\n",
    "  '''\n",
    "  def __init__(self, channels):\n",
    "    super(StepLayer, self).__init__()\n",
    "    ker_width = 3\n",
    "    self.conv1 = nn.Conv2d(channels, channels, ker_width, padding=1)\n",
    "    self.conv2 = nn.Conv2d(channels, channels, ker_width, padding=1)\n",
    "\n",
    "  def forward(self, x):\n",
    "    return F.relu(self.conv2(F.relu(self.conv1(x))))"
   ]
  },
  {
   "cell_type": "code",
   "execution_count": 8,
   "id": "e775fec2",
   "metadata": {},
   "outputs": [],
   "source": [
    "%%px\n",
    "# Parallel network class, primarily builds a LayerParallel network object\n",
    "# local_steps: number of ResNet layers per processor\n",
    "# for definitions of layer-parallel (and other parameters) see more advanced scripts and notebooks\n",
    "class ParallelNet(nn.Module):\n",
    "  def __init__(self, channels=3, local_steps=32, Tf=1.0, max_levels=3, bwd_max_iters=1, \n",
    "               fwd_max_iters=2, print_level=0, braid_print_level=0, cfactor=4, \n",
    "               fine_fcf=False, skip_downcycle=True, fmg=False, relax_only_cg=0,\n",
    "               user_mpi_buf=False, gpu_direct_commu=False):\n",
    "    super(ParallelNet, self).__init__()\n",
    "\n",
    "    step_layer = lambda: StepLayer(channels)\n",
    "    numprocs = MPI.COMM_WORLD.Get_size()\n",
    "    \n",
    "    self.parallel_nn = torchbraid.LayerParallel(MPI.COMM_WORLD, step_layer, local_steps*numprocs, Tf,\n",
    "                                                max_fwd_levels=max_levels, max_bwd_levels=max_levels,\n",
    "                                                max_iters=2, user_mpi_buf=user_mpi_buf,\n",
    "                                                gpu_direct_commu=gpu_direct_commu)\n",
    "    self.parallel_nn.setBwdMaxIters(bwd_max_iters)\n",
    "    self.parallel_nn.setFwdMaxIters(fwd_max_iters)\n",
    "    self.parallel_nn.setPrintLevel(print_level, True)\n",
    "    self.parallel_nn.setPrintLevel(braid_print_level, False)\n",
    "    self.parallel_nn.setCFactor(cfactor)\n",
    "    self.parallel_nn.setSkipDowncycle(skip_downcycle)\n",
    "    self.parallel_nn.setBwdRelaxOnlyCG(relax_only_cg)\n",
    "    self.parallel_nn.setFwdRelaxOnlyCG(relax_only_cg)\n",
    "    if fmg:\n",
    "      self.parallel_nn.setFMG()\n",
    "    \n",
    "    self.parallel_nn.setNumRelax(1)  # FCF relaxation default on coarse levels\n",
    "    if not fine_fcf:\n",
    "      self.parallel_nn.setNumRelax(0, level=0)  # Set F-Relaxation only on the fine grid\n",
    "    else:\n",
    "      self.parallel_nn.setNumRelax(1, level=0)  # Set FCF-Relaxation on the fine grid\n",
    "\n",
    "    # this object ensures that only the LayerParallel code runs on ranks!=0\n",
    "    compose = self.compose = self.parallel_nn.comp_op()\n",
    "\n",
    "    # by passing this through 'compose' (mean composition: e.g. OpenFlatLayer o channels)\n",
    "    # on processors not equal to 0, these will be None (there are no parameters to train there)\n",
    "    self.open_nn = compose(OpenFlatLayer, channels)\n",
    "    self.close_nn = compose(CloseLayer, channels)\n",
    "\n",
    "  def forward(self, x):\n",
    "    # by passing this through 'o' (mean composition: e.g. self.open_nn o x)\n",
    "    # this makes sure this is run on only processor 0\n",
    "\n",
    "    x = self.compose(self.open_nn, x)\n",
    "    x = self.parallel_nn(x)\n",
    "    x = self.compose(self.close_nn, x)\n",
    "\n",
    "    return x\n"
   ]
  },
  {
   "cell_type": "code",
   "execution_count": 9,
   "id": "b052424d",
   "metadata": {},
   "outputs": [],
   "source": [
    "%%px\n",
    "# Train model for one epoch\n",
    "# Return values: per batch losses and training times, model parameters updated in-place\n",
    "def train(rank, params, model, train_loader, optimizer, epoch, compose, device):\n",
    "  train_times = []\n",
    "  losses = []\n",
    "  model.train()\n",
    "  criterion = nn.CrossEntropyLoss()\n",
    "  total_time = 0.0\n",
    "  for batch_idx, (data, target) in enumerate(train_loader):\n",
    "    start_time = timer()\n",
    "    data, target = data.to(device), target.to(device)\n",
    "    optimizer.zero_grad()\n",
    "    output = model(data)\n",
    "    loss = compose(criterion, output, target)\n",
    "    loss.backward()\n",
    "    stop_time = timer()\n",
    "    optimizer.step()\n",
    "\n",
    "    total_time += stop_time - start_time\n",
    "    train_times.append(stop_time - start_time)\n",
    "    losses.append(loss.item())\n",
    "    if batch_idx % 10 == 0:\n",
    "      root_print(rank, 'Train Epoch: {} [{}/{} ({:.0f}%)]\\tLoss: {:.6f}\\tTime Per Batch {:.6f}'.format(\n",
    "        epoch, batch_idx * len(data), len(train_loader.dataset),\n",
    "               100. * batch_idx / len(train_loader), loss.item(), total_time / (batch_idx + 1.0)))\n",
    "\n",
    "  root_print(rank, 'Train Epoch: {} [{}/{} ({:.0f}%)]\\tLoss: {:.6f}\\tTime Per Batch {:.6f}'.format(\n",
    "    epoch, (batch_idx + 1) * len(data), len(train_loader.dataset),\n",
    "           100. * (batch_idx + 1) / len(train_loader), loss.item(), total_time / (batch_idx + 1.0)))\n",
    "  return losses, train_times"
   ]
  },
  {
   "cell_type": "code",
   "execution_count": 10,
   "id": "cfb56f0d",
   "metadata": {},
   "outputs": [],
   "source": [
    "%%px\n",
    "# Evaluate model on validation data\n",
    "# Return: number of correctly classified test items, total number of test items, loss on test data set\n",
    "def test(rank, model, test_loader, compose, device):\n",
    "  model.eval()\n",
    "  test_loss = 0\n",
    "  correct = 0\n",
    "  criterion = nn.CrossEntropyLoss()\n",
    "  with torch.no_grad():\n",
    "    for data, target in test_loader:\n",
    "      data, target = data.to(device), target.to(device)\n",
    "      output = model(data)\n",
    "      test_loss += compose(criterion, output, target).item()\n",
    "\n",
    "      if rank == 0:\n",
    "        pred = output.argmax(dim=1, keepdim=True)  # get the index of the max log-probability\n",
    "        correct += pred.eq(target.view_as(pred)).sum().item()\n",
    "\n",
    "  test_loss /= len(test_loader.dataset)\n",
    "\n",
    "  root_print(rank, '\\nTest set: Average loss: {:.4f}, Accuracy: {}/{} ({:.0f}%)\\n'.format(\n",
    "    test_loss, correct, len(test_loader.dataset),\n",
    "    100. * correct / len(test_loader.dataset)))\n",
    "  return correct, len(test_loader.dataset), test_loss\n",
    "\n",
    "# Parallel printing helper function\n",
    "def root_print(rank, s):\n",
    "  if rank == 0:\n",
    "    print(s)"
   ]
  },
  {
   "cell_type": "code",
   "execution_count": 11,
   "id": "81a3e5f7",
   "metadata": {},
   "outputs": [
    {
     "data": {
      "text/plain": [
       "[stdout:0] No GPUs to be used, CPU only\n",
       "Run info rank: 0: | Device: cpu | Host: cpu\n"
      ]
     },
     "metadata": {},
     "output_type": "display_data"
    },
    {
     "data": {
      "text/plain": [
       "[stdout:1] Run info rank: 1: | Device: cpu | Host: cpu\n"
      ]
     },
     "metadata": {},
     "output_type": "display_data"
    },
    {
     "data": {
      "text/plain": [
       "[stdout:3] Run info rank: 3: | Device: cpu | Host: cpu\n"
      ]
     },
     "metadata": {},
     "output_type": "display_data"
    },
    {
     "data": {
      "text/plain": [
       "[stdout:2] Run info rank: 2: | Device: cpu | Host: cpu\n"
      ]
     },
     "metadata": {},
     "output_type": "display_data"
    }
   ],
   "source": [
    "%%px\n",
    "# Begin setting up run-time environment \n",
    "\n",
    "#Set a few training parameters  \n",
    "params = {}\n",
    "params['percent_data'] = 0.05 # how much of the data to read in and use for training/testing\n",
    "params['batch_size'] = 50     # input batch size for training\n",
    "params['epochs'] = 3          # number of epochs to train\n",
    "params['lr'] = 0.01           # learning rate\n",
    "params['steps'] = 32          # number of times steps in the resnet layer-parallel part\n",
    "\n",
    "# MPI information\n",
    "comm = MPI.COMM_WORLD\n",
    "rank = comm.Get_rank()\n",
    "procs = comm.Get_size()\n",
    "\n",
    "# Use device or CPU?\n",
    "use_cuda = torch.cuda.is_available()\n",
    "device, host = torchbraid.utils.getDevice(comm=comm)\n",
    "device = torch.device(\"cuda\" if use_cuda else \"cpu\")\n",
    "print(f'Run info rank: {rank}: | Device: {device} | Host: {host}')\n",
    "\n",
    "# Set seed for reproducibility\n",
    "torch.manual_seed(1)\n",
    "\n",
    "# Compute number of steps in ResNet per processor\n",
    "local_steps = 32 / procs\n",
    "if params['steps'] % procs != 0:\n",
    "  root_print(rank, 'Steps must be an even multiple of the number of processors: %d %d' % (params['steps'], procs))\n"
   ]
  },
  {
   "cell_type": "code",
   "execution_count": 12,
   "id": "36b91cb8",
   "metadata": {},
   "outputs": [],
   "source": [
    "%%px\n",
    "# Read in Digits MNIST \n",
    "transform = transforms.Compose([transforms.ToTensor(),\n",
    "                                transforms.Normalize((0.1307,), (0.3081,)) ])\n",
    "dataset = datasets.MNIST(torchbraid_path + '/examples/mnist/digit-data', download=False, transform=transform)\n",
    "train_size = int(50000 * params['percent_data'])\n",
    "test_size = int(10000 * params['percent_data'])\n",
    "train_set = torch.utils.data.Subset(dataset, range(train_size))\n",
    "test_set = torch.utils.data.Subset(dataset, range(train_size, train_size + test_size))\n",
    "train_loader = torch.utils.data.DataLoader(train_set, batch_size=params['batch_size'], shuffle=False)\n",
    "test_loader = torch.utils.data.DataLoader(test_set, batch_size=params['batch_size'], shuffle=False)"
   ]
  },
  {
   "cell_type": "code",
   "execution_count": 13,
   "id": "ba553705",
   "metadata": {},
   "outputs": [
    {
     "data": {
      "text/plain": [
       "[stdout:0] Train Epoch: 1 [0/2500 (0%)]\tLoss: 2.284102\tTime Per Batch 0.231123\n",
       "Train Epoch: 1 [500/2500 (20%)]\tLoss: 1.639556\tTime Per Batch 0.197372\n",
       "Train Epoch: 1 [1000/2500 (40%)]\tLoss: 0.773302\tTime Per Batch 0.193071\n",
       "Train Epoch: 1 [1500/2500 (60%)]\tLoss: 0.555773\tTime Per Batch 0.193504\n",
       "Train Epoch: 1 [2000/2500 (80%)]\tLoss: 0.717467\tTime Per Batch 0.192830\n",
       "Train Epoch: 1 [2500/2500 (100%)]\tLoss: 0.449779\tTime Per Batch 0.194713\n",
       "\n",
       "Test set: Average loss: 0.0088, Accuracy: 443/500 (89%)\n",
       "\n",
       "Train Epoch: 2 [0/2500 (0%)]\tLoss: 0.471336\tTime Per Batch 0.191061\n",
       "Train Epoch: 2 [500/2500 (20%)]\tLoss: 0.549915\tTime Per Batch 0.200228\n",
       "Train Epoch: 2 [1000/2500 (40%)]\tLoss: 0.410949\tTime Per Batch 0.201016\n",
       "Train Epoch: 2 [1500/2500 (60%)]\tLoss: 0.456806\tTime Per Batch 0.205155\n",
       "Train Epoch: 2 [2000/2500 (80%)]\tLoss: 0.459516\tTime Per Batch 0.205994\n",
       "Train Epoch: 2 [2500/2500 (100%)]\tLoss: 0.202728\tTime Per Batch 0.206506\n",
       "\n",
       "Test set: Average loss: 0.0066, Accuracy: 451/500 (90%)\n",
       "\n",
       "Train Epoch: 3 [0/2500 (0%)]\tLoss: 0.299698\tTime Per Batch 0.205360\n",
       "Train Epoch: 3 [500/2500 (20%)]\tLoss: 0.301737\tTime Per Batch 0.196051\n",
       "Train Epoch: 3 [1000/2500 (40%)]\tLoss: 0.383723\tTime Per Batch 0.203512\n",
       "Train Epoch: 3 [1500/2500 (60%)]\tLoss: 0.330904\tTime Per Batch 0.202122\n",
       "Train Epoch: 3 [2000/2500 (80%)]\tLoss: 0.280179\tTime Per Batch 0.203734\n",
       "Train Epoch: 3 [2500/2500 (100%)]\tLoss: 0.087123\tTime Per Batch 0.202387\n",
       "\n",
       "Test set: Average loss: 0.0064, Accuracy: 449/500 (90%)\n",
       "\n",
       "TIME PER EPOCH: 10.48 (1 std dev 10.48\n",
       "TIME PER TEST:  1.04 (1 std dev 1.04\n"
      ]
     },
     "metadata": {},
     "output_type": "display_data"
    },
    {
     "data": {
      "application/vnd.jupyter.widget-view+json": {
       "model_id": "2c8d3726ba844c8e88e63d668859318c",
       "version_major": 2,
       "version_minor": 0
      },
      "text/plain": [
       "%px:   0%|          | 0/4 [00:00<?, ?tasks/s]"
      ]
     },
     "metadata": {},
     "output_type": "display_data"
    }
   ],
   "source": [
    "%%px\n",
    "# Create layer-parallel network\n",
    "# Note this can be done on only one processor, but will be slow\n",
    "model = ParallelNet(local_steps=local_steps).to(device)\n",
    "\n",
    "# Declare optimizer\n",
    "optimizer = optim.SGD(model.parameters(), lr=params['lr'], momentum=0.9)\n",
    "\n",
    "# Carry out parallel training\n",
    "batch_losses = []; batch_times = []\n",
    "epoch_times = []; test_times = []\n",
    "validat_correct_counts = []\n",
    "\n",
    "for epoch in range(1, params['epochs'] + 1):\n",
    "  start_time = timer()\n",
    "  [losses, train_times] = train(rank=rank, params=params, model=model, train_loader=train_loader, optimizer=optimizer, epoch=epoch,\n",
    "        compose=model.compose, device=device)\n",
    "  epoch_times += [timer() - start_time]\n",
    "  batch_losses += losses\n",
    "  batch_times += train_times\n",
    "\n",
    "  start_time = timer()\n",
    "  validat_correct, validat_size, validat_loss = test(rank=rank, model=model, test_loader=test_loader, compose=model.compose, device=device)\n",
    "  test_times += [timer() - start_time]\n",
    "  validat_correct_counts += [validat_correct]\n",
    "\n",
    "root_print(rank,\n",
    "           f'TIME PER EPOCH: {\"{:.2f}\".format(stats.mean(epoch_times))} '\n",
    "           f'{(\"(1 std dev \" + \"{:.2f}\".format(stats.mean(epoch_times))) if len(epoch_times) > 1 else \"\"}')\n",
    "root_print(rank,\n",
    "           f'TIME PER TEST:  {\"{:.2f}\".format(stats.mean(test_times))} '\n",
    "           f'{(\"(1 std dev \" + \"{:.2f}\".format(stats.mean(test_times))) if len(test_times) > 1 else \"\"}')"
   ]
  },
  {
   "cell_type": "code",
   "execution_count": 20,
   "id": "576afc83",
   "metadata": {},
   "outputs": [
    {
     "data": {
      "text/plain": [
       "[stdout:0] \n",
       "Min batch time:   0.162 \n",
       "Mean batch time:  0.189 \n"
      ]
     },
     "metadata": {},
     "output_type": "display_data"
    },
    {
     "data": {
      "text/plain": [
       "[output:0]"
      ]
     },
     "metadata": {},
     "output_type": "display_data"
    },
    {
     "data": {
      "image/png": "[encoded data removed]",
      "text/plain": [
       "<Figure size 640x480 with 2 Axes>"
      ]
     },
     "metadata": {
      "engine": 0
     },
     "output_type": "display_data"
    }
   ],
   "source": [
    "%%px\n",
    "from matplotlib import pyplot as plt\n",
    "%matplotlib inline\n",
    "\n",
    "# plot the loss, validation \n",
    "root_print(rank, f'\\nMin batch time:   {\"{:.3f}\".format(np.min(batch_times))} ')\n",
    "root_print(rank, f'Mean batch time:  {\"{:.3f}\".format(stats.mean(batch_times))} ')\n",
    "\n",
    "\n",
    "if rank == 0:\n",
    "  fig, ax1 = plt.subplots()\n",
    "  plt.title('Layer-parallel run with %d processors\\n MNIST digits dataset'%(procs), fontsize=15)\n",
    "  ax1.plot(batch_losses, color='b', linewidth=2)\n",
    "  ax1.grid(True, color='k', linestyle='-', linewidth=0.4)\n",
    "  ax1.set_xlabel(r\"Batch number\", fontsize=13)\n",
    "  ax1.set_ylabel(r\"Loss\", fontsize=13, color='b')\n",
    "  \n",
    "  ax2 = ax1.twinx()\n",
    "  epoch_points = np.arange(1, len(validat_correct_counts)+1) * len(train_loader)\n",
    "  validation_percentage = np.array(validat_correct_counts) / validat_size\n",
    "  ax2.plot( epoch_points, validation_percentage, color='r', linestyle='dashed', linewidth=2, marker='o')\n",
    "  ax2.set_ylabel(r\"Validation rate\", fontsize=13, color='r')\n"
   ]
  },
  {
   "cell_type": "code",
   "execution_count": null,
   "id": "5157f6de",
   "metadata": {},
   "outputs": [],
   "source": []
  }
 ],
 "metadata": {
  "kernelspec": {
   "display_name": "Python 3 (ipykernel)",
   "language": "python",
   "name": "python3"
  },
  "language_info": {
   "codemirror_mode": {
    "name": "ipython",
    "version": 3
   },
   "file_extension": ".py",
   "mimetype": "text/x-python",
   "name": "python",
   "nbconvert_exporter": "python",
   "pygments_lexer": "ipython3",
   "version": "3.9.15"
  }
 },
 "nbformat": 4,
 "nbformat_minor": 5
}

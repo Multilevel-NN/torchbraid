{
 "cells": [
  {
   "cell_type": "code",
   "execution_count": 1,
   "metadata": {},
   "outputs": [],
   "source": [
    "from IPython.display import display, HTML\n",
    "import numpy as np\n",
    "import pandas as pd\n",
    "\n",
    "from read_residuals import read_residuals, mean_convergence"
   ]
  },
  {
   "cell_type": "code",
   "execution_count": 2,
   "metadata": {},
   "outputs": [],
   "source": [
    "cfls = [1, 2, 3, 4, 49]\n",
    "cfl_labels = [\"0.1\", \"0.2\", \"0.3\", \"0.4\", \"0.49\"]\n",
    "\n",
    "levels = [2, 3, 5]\n",
    "braid_str = \"{}level/braid_run_cfl_{}\"\n",
    "torch_str = \"{}level/torch_braid_cfl_{}\"\n",
    "\n",
    "braid_data = np.zeros((len(cfls), len(levels)))\n",
    "torch_data = np.zeros((len(cfls), len(levels)))"
   ]
  },
  {
   "cell_type": "code",
   "execution_count": 3,
   "metadata": {},
   "outputs": [],
   "source": [
    "for i, cfl in enumerate(cfls):\n",
    "    for j, level in enumerate(levels):\n",
    "        r_braid, nt_braid, Tf_braid = read_residuals(braid_str.format(level, cfl))\n",
    "        r_torch, nt_torch, Tf_torch = read_residuals(torch_str.format(level, cfl))\n",
    "\n",
    "        if np.abs(Tf_braid - Tf_torch) > 1e-6:\n",
    "            print(f\"Tf doesn't match for level {level}, cfl {cfl}!!\")\n",
    "\n",
    "        braid_data[i, j] = mean_convergence(r_braid)[0]\n",
    "        torch_data[i, j] = mean_convergence(r_torch)[0]"
   ]
  },
  {
   "cell_type": "code",
   "execution_count": 4,
   "metadata": {},
   "outputs": [
    {
     "name": "stdout",
     "output_type": "stream",
     "text": [
      "Mean initial convergence: (mean convergence rate for first 3 iterations)\n",
      "=========================================================================\n",
      "braid cfl number/max levels:\n"
     ]
    },
    {
     "data": {
      "text/html": [
       "<table border=\"1\" class=\"dataframe\">\n",
       "  <thead>\n",
       "    <tr style=\"text-align: right;\">\n",
       "      <th></th>\n",
       "      <th>2</th>\n",
       "      <th>3</th>\n",
       "      <th>5</th>\n",
       "    </tr>\n",
       "  </thead>\n",
       "  <tbody>\n",
       "    <tr>\n",
       "      <th>0.1</th>\n",
       "      <td>2.61e-05</td>\n",
       "      <td>6.82e-05</td>\n",
       "      <td>6.17e-02</td>\n",
       "    </tr>\n",
       "    <tr>\n",
       "      <th>0.2</th>\n",
       "      <td>9.99e-05</td>\n",
       "      <td>5.56e-02</td>\n",
       "      <td>9.72e-02</td>\n",
       "    </tr>\n",
       "    <tr>\n",
       "      <th>0.3</th>\n",
       "      <td>1.12e-01</td>\n",
       "      <td>1.12e-01</td>\n",
       "      <td>1.96e-01</td>\n",
       "    </tr>\n",
       "    <tr>\n",
       "      <th>0.4</th>\n",
       "      <td>6.26e-02</td>\n",
       "      <td>6.26e-02</td>\n",
       "      <td>1.51e-01</td>\n",
       "    </tr>\n",
       "    <tr>\n",
       "      <th>0.49</th>\n",
       "      <td>7.86e-02</td>\n",
       "      <td>7.86e-02</td>\n",
       "      <td>1.14e-01</td>\n",
       "    </tr>\n",
       "  </tbody>\n",
       "</table>"
      ],
      "text/plain": [
       "<IPython.core.display.HTML object>"
      ]
     },
     "metadata": {},
     "output_type": "display_data"
    },
    {
     "name": "stdout",
     "output_type": "stream",
     "text": [
      "torchbraid cfl number/max levels:\n"
     ]
    },
    {
     "data": {
      "text/html": [
       "<table border=\"1\" class=\"dataframe\">\n",
       "  <thead>\n",
       "    <tr style=\"text-align: right;\">\n",
       "      <th></th>\n",
       "      <th>2</th>\n",
       "      <th>3</th>\n",
       "      <th>5</th>\n",
       "    </tr>\n",
       "  </thead>\n",
       "  <tbody>\n",
       "    <tr>\n",
       "      <th>0.1</th>\n",
       "      <td>1.34e-01</td>\n",
       "      <td>2.13e-04</td>\n",
       "      <td>3.36e-03</td>\n",
       "    </tr>\n",
       "    <tr>\n",
       "      <th>0.2</th>\n",
       "      <td>5.18e-02</td>\n",
       "      <td>2.72e-03</td>\n",
       "      <td>4.93e-03</td>\n",
       "    </tr>\n",
       "    <tr>\n",
       "      <th>0.3</th>\n",
       "      <td>5.47e-02</td>\n",
       "      <td>5.48e-02</td>\n",
       "      <td>3.70e-02</td>\n",
       "    </tr>\n",
       "    <tr>\n",
       "      <th>0.4</th>\n",
       "      <td>7.96e-03</td>\n",
       "      <td>8.01e-03</td>\n",
       "      <td>1.37e-02</td>\n",
       "    </tr>\n",
       "    <tr>\n",
       "      <th>0.49</th>\n",
       "      <td>1.16e-02</td>\n",
       "      <td>1.16e-02</td>\n",
       "      <td>7.48e-03</td>\n",
       "    </tr>\n",
       "  </tbody>\n",
       "</table>"
      ],
      "text/plain": [
       "<IPython.core.display.HTML object>"
      ]
     },
     "metadata": {},
     "output_type": "display_data"
    }
   ],
   "source": [
    "braid_chart = pd.DataFrame(braid_data, columns=levels, index=cfl_labels)\n",
    "torch_chart = pd.DataFrame(torch_data, columns=levels, index=cfl_labels)\n",
    "\n",
    "braid_chart.to_csv(\"braid_diff_convergence.csv\")\n",
    "torch_chart.to_csv(\"torch_diff_convergence.csv\")\n",
    "\n",
    "print(\"Mean initial convergence: (mean convergence rate for first 3 iterations)\")\n",
    "print(\"=========================================================================\")\n",
    "print(\"braid cfl number/max levels:\")\n",
    "display(HTML(braid_chart.to_html()))\n",
    "print(\"torchbraid cfl number/max levels:\")\n",
    "display(HTML(torch_chart.to_html()))"
   ]
  },
  {
   "cell_type": "code",
   "execution_count": null,
   "metadata": {},
   "outputs": [],
   "source": [
    "cfls = [1, 2, 3, 4, 49]\n",
    "cfl_labels = [\"0.1\", \"0.2\", \"0.3\", \"0.4\", \"0.49\"]\n",
    "\n",
    "levels = [2, 3, 5]\n",
    "braid_str = \"{}level/braid_run_cfl_{}\"\n",
    "torch_str = \"{}level/torch_braid_cfl_{}\"\n",
    "\n",
    "braid_data = np.zeros((len(cfls), len(levels)))\n",
    "torch_data = np.zeros((len(cfls), len(levels)))"
   ]
  }
 ],
 "metadata": {
  "interpreter": {
   "hash": "723914aaf5e785186ec92b840c3b774d4e0f3865b89a54b37c750861443d4d89"
  },
  "kernelspec": {
   "display_name": "Python 3.7.9 64-bit ('py37': conda)",
   "name": "python3"
  },
  "language_info": {
   "codemirror_mode": {
    "name": "ipython",
    "version": 3
   },
   "file_extension": ".py",
   "mimetype": "text/x-python",
   "name": "python",
   "nbconvert_exporter": "python",
   "pygments_lexer": "ipython3",
   "version": "3.7.9"
  },
  "orig_nbformat": 4
 },
 "nbformat": 4,
 "nbformat_minor": 2
}

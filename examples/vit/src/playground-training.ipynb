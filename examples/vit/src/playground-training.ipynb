{
 "cells": [
  {
   "cell_type": "markdown",
   "id": "556781df-31a4-4b02-a178-048eb96f995a",
   "metadata": {},
   "source": [
    "# Pretraining for my ViT model "
   ]
  },
  {
   "cell_type": "markdown",
   "id": "d91336be-ef51-4066-854c-e71aae793823",
   "metadata": {},
   "source": [
    "## Load data first\n",
    "\n",
    "I think we can use MNIST for now to just show the code works"
   ]
  },
  {
   "cell_type": "code",
   "execution_count": 9,
   "id": "439c33a1-9a3c-45af-b45d-4e4b76ba2ad6",
   "metadata": {},
   "outputs": [
    {
     "name": "stdout",
     "output_type": "stream",
     "text": [
      "Collecting scipy\n",
      "  Downloading scipy-1.15.3-cp313-cp313-manylinux_2_17_x86_64.manylinux2014_x86_64.whl.metadata (61 kB)\n",
      "Requirement already satisfied: numpy<2.5,>=1.23.5 in /home/sjiang/braids_v3/pip-test/lib/python3.13/site-packages (from scipy) (2.2.4)\n",
      "Downloading scipy-1.15.3-cp313-cp313-manylinux_2_17_x86_64.manylinux2014_x86_64.whl (37.3 MB)\n",
      "\u001b[2K   \u001b[90m━━━━━━━━━━━━━━━━━━━━━━━━━━━━━━━━━━━━━━━━\u001b[0m \u001b[32m37.3/37.3 MB\u001b[0m \u001b[31m42.1 MB/s\u001b[0m eta \u001b[36m0:00:00\u001b[0m00:01\u001b[0m00:01\u001b[0m\n",
      "\u001b[?25hInstalling collected packages: scipy\n",
      "Successfully installed scipy-1.15.3\n",
      "\n",
      "\u001b[1m[\u001b[0m\u001b[34;49mnotice\u001b[0m\u001b[1;39;49m]\u001b[0m\u001b[39;49m A new release of pip is available: \u001b[0m\u001b[31;49m24.2\u001b[0m\u001b[39;49m -> \u001b[0m\u001b[32;49m25.1.1\u001b[0m\n",
      "\u001b[1m[\u001b[0m\u001b[34;49mnotice\u001b[0m\u001b[1;39;49m]\u001b[0m\u001b[39;49m To update, run: \u001b[0m\u001b[32;49mpip install --upgrade pip\u001b[0m\n"
     ]
    }
   ],
   "source": [
    "!pip install scipy"
   ]
  },
  {
   "cell_type": "code",
   "execution_count": 10,
   "id": "20f86bbf-14fa-4681-b338-70f66a7900a3",
   "metadata": {},
   "outputs": [],
   "source": [
    "import torch\n",
    "from torch.utils.data import DataLoader\n",
    "from torchvision import datasets, transforms\n",
    "import scipy"
   ]
  },
  {
   "cell_type": "code",
   "execution_count": 11,
   "id": "fcfbbf77-50d3-4326-90b8-bc7f4401ace9",
   "metadata": {},
   "outputs": [],
   "source": [
    "def load_mnist(batch_size=32):\n",
    "    transform = transforms.Compose([\n",
    "        transforms.Grayscale(3),  # Convert grayscale to 3 channels (required for ViT)\n",
    "        transforms.Resize((224, 224)),  # Resize images to 224x224 (ViT input size)\n",
    "        transforms.ToTensor(),  # Convert images to tensors\n",
    "        # There might be better normalization \n",
    "        transforms.Normalize((0.5,), (0.5,))  # Normalize pixel values to [-1, 1]\n",
    "    ])\n",
    "    \n",
    "    train_dataset = datasets.MNIST(root=\"./data\", train=True, transform=transform, download=True)\n",
    "    test_dataset = datasets.MNIST(root=\"./data\", train=False, transform=transform, download=True)\n",
    "    \n",
    "    train_loader = DataLoader(train_dataset, batch_size=batch_size, shuffle=True)\n",
    "    test_loader = DataLoader(test_dataset, batch_size=batch_size, shuffle=False)\n",
    "    \n",
    "    return train_loader, test_loader\n",
    "\n",
    "def load_tiny_imagenet(batch_size=32, data_dir=\"./tiny-imagenet-200\"):\n",
    "    transform = transforms.Compose([\n",
    "        transforms.Resize((224, 224)),  # Resize images to 224x224 (ViT input size)\n",
    "        transforms.ToTensor(),  # Convert images to tensors\n",
    "        transforms.Normalize((0.5, 0.5, 0.5), (0.5, 0.5, 0.5))  # Normalize pixel values to [-1, 1]\n",
    "    ])\n",
    "    \n",
    "    # Load training and validation datasets\n",
    "    train_dataset = datasets.ImageNet(root=\"./data\", train=True, transform=transform, download=True)\n",
    "    test_dataset = datasets.ImageNet(root=\"./data\", train=False, transform=transform, download=True)\n",
    "    \n",
    "    # Create data loaders\n",
    "    train_loader = DataLoader(train_dataset, batch_size=batch_size, shuffle=True)\n",
    "    val_loader = DataLoader(val_dataset, batch_size=batch_size, shuffle=False)\n",
    "    \n",
    "    return train_loader, val_loader"
   ]
  },
  {
   "cell_type": "code",
   "execution_count": 13,
   "id": "46bd8996-434c-4f0d-bd13-8f33df77bdab",
   "metadata": {},
   "outputs": [],
   "source": [
    "train_loader, test_loader = load_mnist(batch_size=128)\n",
    "# train_loader, test_loader = load_tiny_imagenet(batch_size=128) # I haven't tested this... \n"
   ]
  },
  {
   "cell_type": "markdown",
   "id": "23ad71c9-03e3-44b2-b682-b493bb0140cc",
   "metadata": {},
   "source": [
    "## Define model and train "
   ]
  },
  {
   "cell_type": "code",
   "execution_count": 7,
   "id": "af8a2c5f-d800-4e5a-9433-8b6089e4aec3",
   "metadata": {},
   "outputs": [],
   "source": [
    "from hf_src import ViTForImageClassification, ViTConfig"
   ]
  },
  {
   "cell_type": "code",
   "execution_count": 19,
   "id": "35d13185-ea8d-4ae3-aee1-3969abcbc79d",
   "metadata": {},
   "outputs": [],
   "source": [
    "from torch.optim import AdamW\n",
    "from tqdm.notebook import tqdm"
   ]
  },
  {
   "cell_type": "code",
   "execution_count": 8,
   "id": "944cc8af-1b98-46d5-8741-6573667c289d",
   "metadata": {},
   "outputs": [],
   "source": [
    "config = ViTConfig(\n",
    "    num_labels=10,  # MNIST has 10 classes (digits 0-9)\n",
    "    hidden_size=768,  # Default hidden size for ViT\n",
    "    num_hidden_layers=12,  # Number of transformer layers\n",
    "    num_attention_heads=12,  # Number of attention heads\n",
    "    image_size=224,  # Input image size\n",
    "    patch_size=16,  # Patch size\n",
    "    intermediate_size=3072,  # Feed-forward layer size\n",
    "    hidden_dropout_prob=0.1,  # Dropout probability\n",
    "    attention_probs_dropout_prob=0.1,  # Dropout for attention\n",
    ")"
   ]
  },
  {
   "cell_type": "code",
   "execution_count": 35,
   "id": "88fc5673-f8cf-4109-a293-2ad40d22a2b9",
   "metadata": {},
   "outputs": [],
   "source": [
    "model = ViTForImageClassification(config)\n"
   ]
  },
  {
   "cell_type": "code",
   "execution_count": 36,
   "id": "6bc67f54-e72c-4038-b51e-7aa4a4c10b30",
   "metadata": {},
   "outputs": [],
   "source": [
    "device = 'cuda'"
   ]
  },
  {
   "cell_type": "code",
   "execution_count": 37,
   "id": "cb7f925e-18fa-44cb-81f1-289aab91838d",
   "metadata": {},
   "outputs": [],
   "source": [
    "model = model.to(device)"
   ]
  },
  {
   "cell_type": "code",
   "execution_count": 39,
   "id": "85be4ca6-8f00-4dbf-9780-8e37635ce048",
   "metadata": {},
   "outputs": [
    {
     "data": {
      "application/vnd.jupyter.widget-view+json": {
       "model_id": "d205f43d0ece44eda4ad5b51e8e07d96",
       "version_major": 2,
       "version_minor": 0
      },
      "text/plain": [
       "Epoch 1/5, Loss: 246.4970:   0%|          | 0/469 [00:00<?, ?it/s]"
      ]
     },
     "metadata": {},
     "output_type": "display_data"
    },
    {
     "data": {
      "application/vnd.jupyter.widget-view+json": {
       "model_id": "d006e292d43b4206b9167755f9c016ec",
       "version_major": 2,
       "version_minor": 0
      },
      "text/plain": [
       "Epoch 2/5, Loss: 246.4970:   0%|          | 0/469 [00:00<?, ?it/s]"
      ]
     },
     "metadata": {},
     "output_type": "display_data"
    },
    {
     "data": {
      "application/vnd.jupyter.widget-view+json": {
       "model_id": "b773889451bb43168f5678cea9a06c33",
       "version_major": 2,
       "version_minor": 0
      },
      "text/plain": [
       "Epoch 3/5, Loss: 246.4970:   0%|          | 0/469 [00:00<?, ?it/s]"
      ]
     },
     "metadata": {},
     "output_type": "display_data"
    },
    {
     "data": {
      "application/vnd.jupyter.widget-view+json": {
       "model_id": "8249a8d46ac74378874dd46964852ba6",
       "version_major": 2,
       "version_minor": 0
      },
      "text/plain": [
       "Epoch 4/5, Loss: 246.4970:   0%|          | 0/469 [00:00<?, ?it/s]"
      ]
     },
     "metadata": {},
     "output_type": "display_data"
    }
   ],
   "source": [
    "epochs = 5\n",
    "lr = 5e-5\n",
    "\n",
    "optimizer = AdamW(model.parameters(), lr=lr)\n",
    "\n",
    "all_loss = []\n",
    "for epoch in range(epochs):\n",
    "    model.train()\n",
    "    \n",
    "    progress_bar = tqdm(train_loader, desc=f\"Epoch {epoch+1}/{epochs}, Loss: {total_loss:.4f}\")\n",
    "    for batch in progress_bar:\n",
    "        images, labels = batch\n",
    "        images, labels = images.to(device), labels.to(device)\n",
    "\n",
    "        optimizer.zero_grad()\n",
    "        loss = model(images, labels).loss\n",
    "        loss.backward()  # Backward pass\n",
    "        optimizer.step()  # Update weights\n",
    "\n",
    "        all_loss.append(loss.item())\n",
    "        \n",
    "        progress_bar.set_description(f\"Epoch {epoch+1}/{epochs}, Loss: {loss.item():.4f}\")\n"
   ]
  },
  {
   "cell_type": "code",
   "execution_count": 45,
   "id": "4baf17fa-e993-43b8-9f28-bf4629e69856",
   "metadata": {},
   "outputs": [
    {
     "data": {
      "application/vnd.jupyter.widget-view+json": {
       "model_id": "5d519d2eebc24d469a6bb4d6718d43d5",
       "version_major": 2,
       "version_minor": 0
      },
      "text/plain": [
       "  0%|          | 0/79 [00:00<?, ?it/s]"
      ]
     },
     "metadata": {},
     "output_type": "display_data"
    }
   ],
   "source": [
    "model.eval()\n",
    "correct = 0\n",
    "total = 0\n",
    "with torch.no_grad():\n",
    "    for batch in tqdm(test_loader):\n",
    "        images, labels = batch\n",
    "        images, labels = images.to(device), labels.to(device)\n",
    "        \n",
    "        outputs = model(images).logits\n",
    "        _, predicted = torch.max(outputs, dim=1)\n",
    "        correct += (predicted == labels).sum().item()\n",
    "        total += labels.size(0)"
   ]
  },
  {
   "cell_type": "code",
   "execution_count": 46,
   "id": "ffd5e102-aad8-4b2d-b056-145c73c0bded",
   "metadata": {},
   "outputs": [
    {
     "name": "stdout",
     "output_type": "stream",
     "text": [
      "Test accuracy with custom code: 98.2%\n"
     ]
    }
   ],
   "source": [
    "print(f'Test accuracy with custom code: {correct / total * 100:2.1f}%')"
   ]
  },
  {
   "cell_type": "code",
   "execution_count": 47,
   "id": "451280c7-10b7-4f92-821b-3ae702c7d72d",
   "metadata": {},
   "outputs": [],
   "source": [
    "from matplotlib import pyplot as plt "
   ]
  },
  {
   "cell_type": "code",
   "execution_count": 50,
   "id": "c89a303d-71ff-4a6a-afb2-b24229ba5254",
   "metadata": {},
   "outputs": [
    {
     "data": {
      "text/plain": [
       "[<matplotlib.lines.Line2D at 0x7fa638d83250>]"
      ]
     },
     "execution_count": 50,
     "metadata": {},
     "output_type": "execute_result"
    },
    {
     "data": {
      "image/png": "[encoded data removed]",
      "text/plain": [
       "<Figure size 640x480 with 1 Axes>"
      ]
     },
     "metadata": {},
     "output_type": "display_data"
    }
   ],
   "source": [
    "plt.semilogy(all_loss)"
   ]
  },
  {
   "cell_type": "markdown",
   "id": "89baf5d3-9b78-4580-9eec-2af0f17b90b9",
   "metadata": {},
   "source": [
    "## I think MNIST is too easy... \n",
    "\n",
    "Need to use tiny imagenet"
   ]
  },
  {
   "cell_type": "markdown",
   "id": "5c5eb99d-af94-4e8f-b25b-0e049a48dc39",
   "metadata": {},
   "source": []
  },
  {
   "cell_type": "code",
   "execution_count": 49,
   "id": "fec8047c-4552-47e4-9a00-a8055f754201",
   "metadata": {},
   "outputs": [
    {
     "name": "stdout",
     "output_type": "stream",
     "text": [
      "hello\n"
     ]
    }
   ],
   "source": [
    "print('hello')"
   ]
  }
 ],
 "metadata": {
  "kernelspec": {
   "display_name": "Python 3 (ipykernel)",
   "language": "python",
   "name": "python3"
  },
  "language_info": {
   "codemirror_mode": {
    "name": "ipython",
    "version": 3
   },
   "file_extension": ".py",
   "mimetype": "text/x-python",
   "name": "python",
   "nbconvert_exporter": "python",
   "pygments_lexer": "ipython3",
   "version": "3.13.0"
  }
 },
 "nbformat": 4,
 "nbformat_minor": 5
}

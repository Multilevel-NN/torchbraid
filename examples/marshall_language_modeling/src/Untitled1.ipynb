{
 "cells": [
  {
   "cell_type": "code",
   "execution_count": 16,
   "id": "c069ad5a-e2bb-4578-9c3c-5b09fb113fe4",
   "metadata": {},
   "outputs": [],
   "source": [
    "import data\n",
    "from torch.utils.data import Dataset, DataLoader"
   ]
  },
  {
   "cell_type": "code",
   "execution_count": 17,
   "id": "b9f9a831-85b6-4755-9753-8e0e97ab713d",
   "metadata": {},
   "outputs": [
    {
     "name": "stdout",
     "output_type": "stream",
     "text": [
      "Loaded tensor from ../data/wikipedia.data\n",
      "1.4 Splitting data into training and validation data\n",
      "len(train_data)=104035585, len(val_data)=11559510 percent_data=0.01\n",
      "len(train_data)=1040355, len(val_data)=115595\n"
     ]
    }
   ],
   "source": [
    "train_data, val_data, decode, vocabulary_size = data.obtain_data('../data/', 'wikipedia', 'gpt2', 0.01)"
   ]
  },
  {
   "cell_type": "code",
   "execution_count": 18,
   "id": "9ee84f16-8ff8-4881-b40a-bd98ff9a6018",
   "metadata": {},
   "outputs": [],
   "source": [
    "class TextDataset(Dataset):\n",
    "    def __init__(self, data, context_window = 256):\n",
    "        self.length = len(data) // context_window - 1\n",
    "\n",
    "        self.data = data\n",
    "        self.context_window = context_window\n",
    "\n",
    "    def __len__(self):\n",
    "        return self.length\n",
    "\n",
    "    def __getitem__(self, idx):\n",
    "        return self.data[idx * self.context_window:(idx + 1) * self.context_window], \\\n",
    "                self.data[1 + idx * self.context_window:1 + (idx + 1) * self.context_window]\n",
    "\n"
   ]
  },
  {
   "cell_type": "code",
   "execution_count": 19,
   "id": "033a21bf-96d6-4b3f-9513-ddf3de46db19",
   "metadata": {},
   "outputs": [],
   "source": [
    "train_dataset = TextDataset(train_data, 256)\n",
    "train_loader  = DataLoader(train_dataset, batch_size=32, shuffle=False, drop_last=True)\n"
   ]
  },
  {
   "cell_type": "code",
   "execution_count": 28,
   "id": "1c5b9cc9-794d-491d-9d8a-9b84f663c047",
   "metadata": {},
   "outputs": [
    {
     "data": {
      "text/plain": [
       "' and in the case of Neversoft, closing its Guitar Hero division, while transferring future development duties for the series to Vicarious Visions, another Activision studio which had been fundamental in building the Wii and Nintendo DS versions of the games. In November 2010, Activision also closed Budcat Creations, the arm of the publisher that was primarily responsible for porting the Guitar Hero games to the PlayStation 2.Ahead of Activision\\'s 2010 fourth quarter financial report in February 2011, Activision disbanded its Guitar Hero business unit and announced that it would cease development of the planned 2011 Guitar Hero game. Activision cited \" continued declines in the music genre \" to explain its decision. The closure also affected the DJ Hero series, as Activision stated that there were no plans to publish a music game during 2011. Activision\\'s vice president Dan Winters later clarified that the company was \" just putting Guitar Hero on hiatus \" and that they were \" just not making a new game for next year, that\\'s all \".In a July 2011 interview with Forbes, Kotick stated that while the publisher was \" going to stop selling Guitar Hero altogether \", they were \" going to go back to the studios and we ’ re going to use new studios and reinvent \" the series, but a former <'"
      ]
     },
     "execution_count": 28,
     "metadata": {},
     "output_type": "execute_result"
    }
   ],
   "source": [
    "decode(train_dataset[3000][0])"
   ]
  },
  {
   "cell_type": "code",
   "execution_count": 29,
   "id": "dc19ec03-1bae-45b4-91d3-a8e8cf0daec3",
   "metadata": {},
   "outputs": [
    {
     "data": {
      "text/plain": [
       "' in the case of Neversoft, closing its Guitar Hero division, while transferring future development duties for the series to Vicarious Visions, another Activision studio which had been fundamental in building the Wii and Nintendo DS versions of the games. In November 2010, Activision also closed Budcat Creations, the arm of the publisher that was primarily responsible for porting the Guitar Hero games to the PlayStation 2.Ahead of Activision\\'s 2010 fourth quarter financial report in February 2011, Activision disbanded its Guitar Hero business unit and announced that it would cease development of the planned 2011 Guitar Hero game. Activision cited \" continued declines in the music genre \" to explain its decision. The closure also affected the DJ Hero series, as Activision stated that there were no plans to publish a music game during 2011. Activision\\'s vice president Dan Winters later clarified that the company was \" just putting Guitar Hero on hiatus \" and that they were \" just not making a new game for next year, that\\'s all \".In a July 2011 interview with Forbes, Kotick stated that while the publisher was \" going to stop selling Guitar Hero altogether \", they were \" going to go back to the studios and we ’ re going to use new studios and reinvent \" the series, but a former <unk'"
      ]
     },
     "execution_count": 29,
     "metadata": {},
     "output_type": "execute_result"
    }
   ],
   "source": [
    "decode(train_dataset[3000][1])"
   ]
  },
  {
   "cell_type": "code",
   "execution_count": 37,
   "id": "43544f98-b124-4178-9b01-e4c7e8168511",
   "metadata": {},
   "outputs": [
    {
     "data": {
      "text/plain": [
       "' and worked, and a chemical laboratory was established and successfully operated in aid of the Ordnance Department and in the manufacture of calomel, castor oil, spirits of nitre, the various tinctures of iron, and other valuable medicines. Most of these works were located at or near Arkadelphia on the Ouachita River, 75 miles south from Little Rock. The tools, machinery, and the material were gathered piecemeal or else made by hand labor. Nothing of this sort had been before attempted on Government account in Arkansas to my knowledge, except for the manufacture of small arms, the machinery for which was taken away by General Van Dorn and there was neither capital nor sufficient enterprise among the citizens to engage in such undertakings <unk> A further supply, along with lead and caps, was procured from the citizens of Little Rock and vicinity by donation, purchases, and impressments.This ammunition, and that which I brought with me, was rapidly prepared for use at the Laboratory established at the Little Rock Arsenal for that purpose. As illustrating as the pitiful scarcity of material in the country, the fact may be stated that it was found necessary to use public documents of the State Library for cartridge paper. <unk> were employed or conscripted, tools'"
      ]
     },
     "execution_count": 37,
     "metadata": {},
     "output_type": "execute_result"
    }
   ],
   "source": [
    "decode(train_dataset[25][0])"
   ]
  },
  {
   "cell_type": "code",
   "execution_count": 36,
   "id": "3350fa94-230e-4e8c-9177-ff3087429020",
   "metadata": {},
   "outputs": [
    {
     "data": {
      "text/plain": [
       "tensor([ 3111,   837,   290,   257,  5931, 14010,   373,  4920,   290,  7675,\n",
       "        12228,   287,  6133,   286,   262, 14230, 41601,  2732,   290,   287,\n",
       "          262,  6161,   286,  2386,   296,   417,   837,  3350,   273,  3056,\n",
       "          837, 13747,   286, 13759,   260,   837,   262,  2972,   256,  4612,\n",
       "          942,   286,  6953,   837,   290,   584,  8119, 23533,   764,  4042,\n",
       "          286,   777,  2499,   547,  5140,   379,   393,  1474,  9128,  8273,\n",
       "          319,   262, 42201,   620,  5350,  5866,   837,  5441,  4608,  5366,\n",
       "          422,  7703,  4631,   764,   383,  4899,   837, 20230,   837,   290,\n",
       "          262,  2587,   547,  9272,  3704, 28208,   393,  2073,   925,   416,\n",
       "         1021,  4827,   764, 10528,   286,   428,  3297,   550,   587,   878,\n",
       "         7482,   319,  5070,  1848,   287, 14538,   284,   616,  3725,   837,\n",
       "         2845,   329,   262,  6161,   286,  1402,  5101,   837,   262, 20230,\n",
       "          329,   543,   373,  2077,  1497,   416,  3611,  6656,   360,  1211,\n",
       "          290,   612,   373,  6159,  3139,  4249,  6751, 13953,  1871,   262,\n",
       "         4290,   284,  8209,   287,   884, 10122, 45665,  1279,  2954,    29,\n",
       "          317,  2252,  5127,   837,  1863,   351,  1085,   290, 11022,   837,\n",
       "          373, 13834,  1522,   422,   262,  4290,   286,  7703,  4631,   290,\n",
       "        25980,   416, 13784,   837, 13339,   837,   290, 14947,   902,   764,\n",
       "         1212, 14271,   837,   290,   326,   543,   314,  3181,   351,   502,\n",
       "          837,   373,  8902,  5597,   329,   779,   379,   262, 18643,  4920,\n",
       "          379,   262,  7703,  4631, 13837,   329,   326,  4007,   764,  1081,\n",
       "        44000,   355,   262,  6028,  4135, 35501,   286,  2587,   287,   262,\n",
       "         1499,   837,   262,  1109,   743,   307,  5081,   326,   340,   373,\n",
       "         1043,  3306,   284,   779,  1171,  4963,   286,   262,  1812, 10074,\n",
       "          329, 26904,  3348,   764,  1279,  2954,    29,   547,  9322,   393,\n",
       "          762,  6519,   276,   837,  4899,  8155])"
      ]
     },
     "execution_count": 36,
     "metadata": {},
     "output_type": "execute_result"
    }
   ],
   "source": [
    "train_dataset[25][1]"
   ]
  },
  {
   "cell_type": "code",
   "execution_count": 38,
   "id": "c5fac4e3-a5b8-411c-9ec0-fc6d016dd61d",
   "metadata": {},
   "outputs": [
    {
     "data": {
      "text/plain": [
       "' and'"
      ]
     },
     "execution_count": 38,
     "metadata": {},
     "output_type": "execute_result"
    }
   ],
   "source": [
    "decode([290])"
   ]
  },
  {
   "cell_type": "code",
   "execution_count": null,
   "id": "fc7a8c8d-e0b7-46b5-93fb-65501030d476",
   "metadata": {},
   "outputs": [],
   "source": []
  }
 ],
 "metadata": {
  "kernelspec": {
   "display_name": "Python 3 (ipykernel)",
   "language": "python",
   "name": "python3"
  },
  "language_info": {
   "codemirror_mode": {
    "name": "ipython",
    "version": 3
   },
   "file_extension": ".py",
   "mimetype": "text/x-python",
   "name": "python",
   "nbconvert_exporter": "python",
   "pygments_lexer": "ipython3",
   "version": "3.10.8"
  }
 },
 "nbformat": 4,
 "nbformat_minor": 5
}

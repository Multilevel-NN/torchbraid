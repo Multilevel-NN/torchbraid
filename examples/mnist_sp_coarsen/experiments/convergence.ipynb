{
 "cells": [
  {
   "cell_type": "code",
   "execution_count": 1,
   "metadata": {},
   "outputs": [],
   "source": [
    "from IPython.display import display, HTML\n",
    "import numpy as np\n",
    "import pandas as pd\n",
    "\n",
    "from read_residuals import read_residuals, mean_convergence"
   ]
  },
  {
   "cell_type": "code",
   "execution_count": 2,
   "metadata": {},
   "outputs": [],
   "source": [
    "channels = (1, 4)\n",
    "levels = (2, 3)\n",
    "funcs = (\"relu\", \"tanh\")\n",
    "\n",
    "torch_str = \"examples/mnist/experiments/trained_nets/{}_{}_{}l\"\n",
    "torch_data = np.zeros((len(channels), len(levels)))"
   ]
  },
  {
   "cell_type": "code",
   "execution_count": 3,
   "metadata": {},
   "outputs": [],
   "source": [
    "# load data for no spatial coarsening\n",
    "def table(func, sc=False):\n",
    "    if sc:\n",
    "        append = \"_sc.csv\"\n",
    "    else:\n",
    "        append = \".csv\"\n",
    "\n",
    "    for i, channel in enumerate(channels):\n",
    "        for j, level in enumerate(levels):\n",
    "            r_torch, nt_torch, Tf_torch = read_residuals(torch_str.format(func, channel, level) + append)\n",
    "            torch_data[i, j] = mean_convergence(r_torch)[0]\n",
    "\n",
    "    torch_chart = pd.DataFrame(torch_data, columns=levels, index=channels)\n",
    "    torch_chart.to_csv(\"torch_diff_convergence.csv\")\n",
    "\n",
    "    print(\"============================\")\n",
    "    # print(\"Mean initial convergence: (mean convergence rate for first 3 iterations)\")\n",
    "    print(f\"spatial coarsening: {sc}\")\n",
    "    print(f\"channels/max levels: {func}\")\n",
    "    display(HTML(torch_chart.to_html()))"
   ]
  },
  {
   "cell_type": "code",
   "execution_count": 4,
   "metadata": {},
   "outputs": [
    {
     "name": "stdout",
     "output_type": "stream",
     "text": [
      "Mean initial convergence: (mean convergence rate for first 3 iterations)\n",
      "============================\n",
      "spatial coarsening: False\n",
      "channels/max levels: relu\n"
     ]
    },
    {
     "data": {
      "text/html": [
       "<table border=\"1\" class=\"dataframe\">\n",
       "  <thead>\n",
       "    <tr style=\"text-align: right;\">\n",
       "      <th></th>\n",
       "      <th>2</th>\n",
       "      <th>3</th>\n",
       "    </tr>\n",
       "  </thead>\n",
       "  <tbody>\n",
       "    <tr>\n",
       "      <th>1</th>\n",
       "      <td>9.07e-02</td>\n",
       "      <td>9.58e-02</td>\n",
       "    </tr>\n",
       "    <tr>\n",
       "      <th>4</th>\n",
       "      <td>1.07e-01</td>\n",
       "      <td>1.06e-01</td>\n",
       "    </tr>\n",
       "  </tbody>\n",
       "</table>"
      ],
      "text/plain": [
       "<IPython.core.display.HTML object>"
      ]
     },
     "metadata": {},
     "output_type": "display_data"
    },
    {
     "name": "stdout",
     "output_type": "stream",
     "text": [
      "============================\n",
      "spatial coarsening: True\n",
      "channels/max levels: relu\n"
     ]
    },
    {
     "data": {
      "text/html": [
       "<table border=\"1\" class=\"dataframe\">\n",
       "  <thead>\n",
       "    <tr style=\"text-align: right;\">\n",
       "      <th></th>\n",
       "      <th>2</th>\n",
       "      <th>3</th>\n",
       "    </tr>\n",
       "  </thead>\n",
       "  <tbody>\n",
       "    <tr>\n",
       "      <th>1</th>\n",
       "      <td>1.00e+00</td>\n",
       "      <td>1.21e-01</td>\n",
       "    </tr>\n",
       "    <tr>\n",
       "      <th>4</th>\n",
       "      <td>1.00e+00</td>\n",
       "      <td>1.15e-01</td>\n",
       "    </tr>\n",
       "  </tbody>\n",
       "</table>"
      ],
      "text/plain": [
       "<IPython.core.display.HTML object>"
      ]
     },
     "metadata": {},
     "output_type": "display_data"
    }
   ],
   "source": [
    "print(\"Mean initial convergence: (mean convergence rate for first 3 iterations)\")\n",
    "table(funcs[0], False)\n",
    "table(funcs[0], True)"
   ]
  },
  {
   "cell_type": "code",
   "execution_count": 5,
   "metadata": {},
   "outputs": [
    {
     "name": "stdout",
     "output_type": "stream",
     "text": [
      "Mean initial convergence: (mean convergence rate for first 3 iterations)\n",
      "============================\n",
      "spatial coarsening: False\n",
      "channels/max levels: tanh\n"
     ]
    },
    {
     "data": {
      "text/html": [
       "<table border=\"1\" class=\"dataframe\">\n",
       "  <thead>\n",
       "    <tr style=\"text-align: right;\">\n",
       "      <th></th>\n",
       "      <th>2</th>\n",
       "      <th>3</th>\n",
       "    </tr>\n",
       "  </thead>\n",
       "  <tbody>\n",
       "    <tr>\n",
       "      <th>1</th>\n",
       "      <td>2.60e-01</td>\n",
       "      <td>2.47e-01</td>\n",
       "    </tr>\n",
       "    <tr>\n",
       "      <th>4</th>\n",
       "      <td>3.94e-01</td>\n",
       "      <td>3.21e-01</td>\n",
       "    </tr>\n",
       "  </tbody>\n",
       "</table>"
      ],
      "text/plain": [
       "<IPython.core.display.HTML object>"
      ]
     },
     "metadata": {},
     "output_type": "display_data"
    },
    {
     "name": "stdout",
     "output_type": "stream",
     "text": [
      "============================\n",
      "spatial coarsening: True\n",
      "channels/max levels: tanh\n"
     ]
    },
    {
     "data": {
      "text/html": [
       "<table border=\"1\" class=\"dataframe\">\n",
       "  <thead>\n",
       "    <tr style=\"text-align: right;\">\n",
       "      <th></th>\n",
       "      <th>2</th>\n",
       "      <th>3</th>\n",
       "    </tr>\n",
       "  </thead>\n",
       "  <tbody>\n",
       "    <tr>\n",
       "      <th>1</th>\n",
       "      <td>9.28e-01</td>\n",
       "      <td>2.58e-01</td>\n",
       "    </tr>\n",
       "    <tr>\n",
       "      <th>4</th>\n",
       "      <td>9.17e-01</td>\n",
       "      <td>3.06e-01</td>\n",
       "    </tr>\n",
       "  </tbody>\n",
       "</table>"
      ],
      "text/plain": [
       "<IPython.core.display.HTML object>"
      ]
     },
     "metadata": {},
     "output_type": "display_data"
    }
   ],
   "source": [
    "print(\"Mean initial convergence: (mean convergence rate for first 3 iterations)\")\n",
    "table(funcs[1], False)\n",
    "table(funcs[1], True)"
   ]
  },
  {
   "cell_type": "code",
   "execution_count": null,
   "metadata": {},
   "outputs": [],
   "source": []
  }
 ],
 "metadata": {
  "interpreter": {
   "hash": "723914aaf5e785186ec92b840c3b774d4e0f3865b89a54b37c750861443d4d89"
  },
  "kernelspec": {
   "display_name": "Python 3.7.9 64-bit ('py37': conda)",
   "name": "python3"
  },
  "language_info": {
   "codemirror_mode": {
    "name": "ipython",
    "version": 3
   },
   "file_extension": ".py",
   "mimetype": "text/x-python",
   "name": "python",
   "nbconvert_exporter": "python",
   "pygments_lexer": "ipython3",
   "version": "3.7.9"
  },
  "orig_nbformat": 4
 },
 "nbformat": 4,
 "nbformat_minor": 2
}
